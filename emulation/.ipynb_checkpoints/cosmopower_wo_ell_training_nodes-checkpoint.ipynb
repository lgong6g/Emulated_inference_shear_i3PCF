{
 "cells": [
  {
   "cell_type": "code",
   "execution_count": 1,
   "id": "f99fff3b",
   "metadata": {},
   "outputs": [
    {
     "name": "stderr",
     "output_type": "stream",
     "text": [
      "2024-08-24 13:54:13.034806: I tensorflow/core/platform/cpu_feature_guard.cc:193] This TensorFlow binary is optimized with oneAPI Deep Neural Network Library (oneDNN) to use the following CPU instructions in performance-critical operations:  AVX2 AVX512F AVX512_VNNI FMA\n",
      "To enable them in other operations, rebuild TensorFlow with the appropriate compiler flags.\n",
      "2024-08-24 13:54:13.238295: I tensorflow/core/util/port.cc:104] oneDNN custom operations are on. You may see slightly different numerical results due to floating-point round-off errors from different computation orders. To turn them off, set the environment variable `TF_ENABLE_ONEDNN_OPTS=0`.\n",
      "2024-08-24 13:54:14.099480: W tensorflow/compiler/xla/stream_executor/platform/default/dso_loader.cc:64] Could not load dynamic library 'libnvinfer.so.7'; dlerror: libnvinfer.so.7: cannot open shared object file: No such file or directory; LD_LIBRARY_PATH: /home/ubuntu/anaconda3/envs/cp_env/lib/:/home/ubuntu/anaconda3/envs/cp_env/lib/python3.9/site-packages/nvidia/cudnn/lib:\n",
      "2024-08-24 13:54:14.099627: W tensorflow/compiler/xla/stream_executor/platform/default/dso_loader.cc:64] Could not load dynamic library 'libnvinfer_plugin.so.7'; dlerror: libnvinfer_plugin.so.7: cannot open shared object file: No such file or directory; LD_LIBRARY_PATH: /home/ubuntu/anaconda3/envs/cp_env/lib/:/home/ubuntu/anaconda3/envs/cp_env/lib/python3.9/site-packages/nvidia/cudnn/lib:\n",
      "2024-08-24 13:54:14.099638: W tensorflow/compiler/tf2tensorrt/utils/py_utils.cc:38] TF-TRT Warning: Cannot dlopen some TensorRT libraries. If you would like to use Nvidia GPU with TensorRT, please make sure the missing libraries mentioned above are installed properly.\n"
     ]
    }
   ],
   "source": [
    "import numpy as np\n",
    "import pandas as pd\n",
    "import random \n",
    "import multiprocessing\n",
    "import tensorflow as tf\n",
    "import matplotlib.pyplot as plt\n",
    "import sys\n",
    "import copy\n",
    "\n",
    "from cosmopower import cosmopower_NN\n",
    "from scipy import interpolate\n",
    "from scipy import signal"
   ]
  },
  {
   "cell_type": "code",
   "execution_count": 2,
   "id": "f7ff6b74",
   "metadata": {},
   "outputs": [
    {
     "name": "stdout",
     "output_type": "stream",
     "text": [
      "WARNING:tensorflow:From /tmp/ipykernel_518365/3317889844.py:2: is_gpu_available (from tensorflow.python.framework.test_util) is deprecated and will be removed in a future version.\n",
      "Instructions for updating:\n",
      "Use `tf.config.list_physical_devices('GPU')` instead.\n",
      "using gpu:0 device \n",
      "\n"
     ]
    },
    {
     "name": "stderr",
     "output_type": "stream",
     "text": [
      "2024-08-24 13:54:16.057497: I tensorflow/core/platform/cpu_feature_guard.cc:193] This TensorFlow binary is optimized with oneAPI Deep Neural Network Library (oneDNN) to use the following CPU instructions in performance-critical operations:  AVX2 AVX512F AVX512_VNNI FMA\n",
      "To enable them in other operations, rebuild TensorFlow with the appropriate compiler flags.\n",
      "2024-08-24 13:54:16.105479: I tensorflow/compiler/xla/stream_executor/cuda/cuda_gpu_executor.cc:981] successful NUMA node read from SysFS had negative value (-1), but there must be at least one NUMA node, so returning NUMA node zero\n",
      "2024-08-24 13:54:16.140776: I tensorflow/compiler/xla/stream_executor/cuda/cuda_gpu_executor.cc:981] successful NUMA node read from SysFS had negative value (-1), but there must be at least one NUMA node, so returning NUMA node zero\n",
      "2024-08-24 13:54:16.141117: I tensorflow/compiler/xla/stream_executor/cuda/cuda_gpu_executor.cc:981] successful NUMA node read from SysFS had negative value (-1), but there must be at least one NUMA node, so returning NUMA node zero\n",
      "2024-08-24 13:54:16.687241: I tensorflow/compiler/xla/stream_executor/cuda/cuda_gpu_executor.cc:981] successful NUMA node read from SysFS had negative value (-1), but there must be at least one NUMA node, so returning NUMA node zero\n",
      "2024-08-24 13:54:16.687600: I tensorflow/compiler/xla/stream_executor/cuda/cuda_gpu_executor.cc:981] successful NUMA node read from SysFS had negative value (-1), but there must be at least one NUMA node, so returning NUMA node zero\n",
      "2024-08-24 13:54:16.687868: I tensorflow/compiler/xla/stream_executor/cuda/cuda_gpu_executor.cc:981] successful NUMA node read from SysFS had negative value (-1), but there must be at least one NUMA node, so returning NUMA node zero\n",
      "2024-08-24 13:54:16.688123: I tensorflow/core/common_runtime/gpu/gpu_device.cc:1613] Created device /device:GPU:0 with 715 MB memory:  -> device: 0, name: NVIDIA A100-PCIE-40GB, pci bus id: 0000:00:05.0, compute capability: 8.0\n"
     ]
    }
   ],
   "source": [
    "# checking that we are using a GPU\n",
    "device = 'gpu:0' if tf.test.is_gpu_available() else 'cpu' \n",
    "print('using', device, 'device \\n')\n",
    "\n",
    "# setting the seed for reproducibility\n",
    "np.random.seed(0)\n",
    "tf.random.set_seed(0)"
   ]
  },
  {
   "cell_type": "markdown",
   "id": "73b9521f-fd8c-4c04-a756-f1d1ef84b37e",
   "metadata": {},
   "source": [
    "### Load the training integrated bispectrum"
   ]
  },
  {
   "cell_type": "code",
   "execution_count": 3,
   "id": "872c7d09-d783-412b-92e3-af72a6c4e8e0",
   "metadata": {},
   "outputs": [],
   "source": [
    "spectra = np.load('../data/training_grids/iB_amm_U90W90W90_nl_grids_l80_shear_x_shear_COSMOGRIDV1_fiducial_no_neutrinos_i3PCF_sobol_training_2.6e5_nodes_part1.npy')\n",
    "\n",
    "skip_index = np.where((spectra == -999).all(axis=1))[0]\n",
    "\n",
    "np.save('../data/training_grids/skipped_nodes_for_training_iB_amm_U90W90W90_Om_As_w0_h_z_cmin_parameters_sobol_cosmogridv1_wo_ell_2.6e5_nodes_nl_grids.npy', skip_index)"
   ]
  },
  {
   "cell_type": "code",
   "execution_count": 4,
   "id": "695c5183-d964-48c6-bf42-e592378170e2",
   "metadata": {},
   "outputs": [],
   "source": [
    "#n_ell = 100\n",
    "#ell = np.unique(np.logspace(np.log10(2), np.log10(15000), 113).astype(int))\n",
    "n_ell = 80\n",
    "ell = l_array = np.unique(np.logspace(np.log10(2), np.log10(15000), 88).astype(int))\n",
    "\n",
    "spectra = np.load('../data/training_grids/iB_amm_U90W90W90_nl_grids_l80_shear_x_shear_COSMOGRIDV1_fiducial_no_neutrinos_i3PCF_sobol_training_2.6e5_nodes_part1.npy')\n",
    "skip_index = np.load('../data/training_grids/skipped_nodes_for_training_iB_amm_U90W90W90_Om_As_w0_h_z_cmin_parameters_sobol_cosmogridv1_wo_ell_2.6e5_nodes_nl_grids.npy')\n",
    "\n",
    "spectra = np.delete(spectra, skip_index, 0)"
   ]
  },
  {
   "cell_type": "code",
   "execution_count": 6,
   "id": "8acbd31d-dce5-407f-b405-5ba5377ec1c0",
   "metadata": {},
   "outputs": [
    {
     "name": "stdout",
     "output_type": "stream",
     "text": [
      "251324\n",
      "The training nodes that have negative values are [     0      1      2 ... 251362 251363 251364]\n",
      "18\n",
      "The training nodes that have values larger or equal to 1e10 are [  3096  28993  38200  61266  73051  88265  88634 107412 119440 130971\n",
      " 138091 148770 162150 199711 228309 230886 244146 245862]\n",
      "283\n",
      "The training nodes that have all values smaller or equal to 1e2 are [    56   1091   2323   3108   4581   6140   6761   8059   8906   9086\n",
      "  10672  11394  11454  13284  13657  14218  14490  15519  16456  16755\n",
      "  17835  18052  20369  20489  21271  21812  22838  23822  24577  26182\n",
      "  26309  27362  27852  28201  28632  29039  32572  32963  33743  34828\n",
      "  35112  35604  36543  37973  38091  39154  40136  40483  40917  41450\n",
      "  42478  43952  44607  45334  45787  46516  47031  47295  48474  49377\n",
      "  49844  50130  51276  52301  53760  53878  54659  56821  57208  58143\n",
      "  59150  60645  62019  62785  63503  64654  64946  65064  65971  68050\n",
      "  68232  68499  69889  70294  70867  71340  71930  72023  73144  73681\n",
      "  74934  75865  77288  77417  78229  79895  80191  80699  81756  82470\n",
      "  83229  84608  85075  85757  87270  87551  87712  89834  90103  90595\n",
      "  91498  92954  93804  94105  94526  95624  96895  98534  98989  99351\n",
      " 101242 102872 103497 104252 105918 106878 107691 108190 109253 110162\n",
      " 111220 112025 112762 113357 113578 114069 114458 115367 116618 116873\n",
      " 119569 120135 120465 120942 122417 123570 123986 126753 126933 128453\n",
      " 129234 129724 131815 131999 132566 132940 135191 135275 136602 138073\n",
      " 139316 139578 139695 141664 142603 143962 144089 146413 146884 147603\n",
      " 148698 149028 150005 150246 151325 152504 153861 154761 155364 155481\n",
      " 156393 156578 157919 158638 158699 160324 161149 161798 163121 164878\n",
      " 165284 166070 166522 167151 167962 168669 169163 169405 171471 173427\n",
      " 174608 175058 175663 178151 178496 179031 179427 179811 180637 180795\n",
      " 182186 182877 183402 184834 185737 185861 187374 188159 188661 190405\n",
      " 190936 191268 191659 192662 192788 193722 196027 197009 198222 201737\n",
      " 202068 202579 203394 204540 205350 206192 207635 208454 209174 210143\n",
      " 210752 211905 212885 213697 214010 214269 215327 216796 218115 218580\n",
      " 220731 221294 222050 222566 223778 224675 225489 225608 226054 227112\n",
      " 228094 229002 229549 230400 231549 232858 235459 237086 237430 237460\n",
      " 238328 238747 239571 240221 241373 241723 241850 244794 246277 247089\n",
      " 247583 248733 250388]\n",
      "0\n",
      "The training nodes that have values NaN are []\n",
      "1313\n",
      "The training nodes that have increasing values on high ell [    56    239    428 ... 250751 251103 251219]\n"
     ]
    }
   ],
   "source": [
    "negative_mask = np.where((spectra < 0.0).any(axis=1))[0] # for iB+\n",
    "peak_mask = np.where((spectra >= 1e10).any(axis=1))[0] # these are training nodes having only a single peak amplitude with extremely large values but on very large ell scales\n",
    "small_mask = np.where((spectra <= 1e2).all(axis=1))[0]\n",
    "nan_mask = np.where((np.isnan(spectra)).any(axis=1))[0]\n",
    "\n",
    "# Turn-up of power spectrum on high ell values\n",
    "rising_index_highell = []\n",
    "for i in range(spectra.shape[0]):\n",
    "    for j in range(75,n_ell-1):\n",
    "        if (spectra[i, j] < spectra[i, j+1]):\n",
    "            rising_index_highell.append(i)\n",
    "            break\n",
    "highell_mask = np.array(rising_index_highell)\n",
    "\n",
    "print(len(negative_mask))\n",
    "print('The training nodes that have negative values are '+ str(negative_mask))\n",
    "print(len(peak_mask))\n",
    "print('The training nodes that have values larger or equal to 1e10 are '+ str(peak_mask))\n",
    "print(len(small_mask))\n",
    "print('The training nodes that have all values smaller or equal to 1e2 are '+ str(small_mask))\n",
    "print(len(nan_mask))\n",
    "print('The training nodes that have values NaN are '+ str(nan_mask))\n",
    "print(len(highell_mask))\n",
    "print('The training nodes that have increasing values on high ell '+ str(highell_mask))\n",
    "#mask = np.concatenate((negative_mask, peak_mask, small_mask, nan_mask, highell_mask)) # for iB+\n",
    "#mask = np.concatenate((peak_mask, small_mask, nan_mask, highell_mask)) \n",
    "mask = np.concatenate((peak_mask, small_mask, nan_mask)) # for iB-\n",
    "mask = np.asarray(np.unique(mask), dtype=int)\n",
    "spectra = np.delete(spectra, mask, axis=0)"
   ]
  },
  {
   "cell_type": "code",
   "execution_count": 6,
   "id": "378b41c8-1d9d-40f5-8752-c8f087a6809e",
   "metadata": {},
   "outputs": [
    {
     "data": {
      "text/plain": [
       "Text(0, 0.5, '$iB_{-}(\\\\ell)$')"
      ]
     },
     "execution_count": 6,
     "metadata": {},
     "output_type": "execute_result"
    },
    {
     "data": {
      "image/png": "[encoded data removed]",
      "text/plain": [
       "<Figure size 640x480 with 1 Axes>"
      ]
     },
     "metadata": {},
     "output_type": "display_data"
    }
   ],
   "source": [
    "plt.plot(ell, spectra[56])\n",
    "plt.yscale('log')\n",
    "plt.xscale('log')\n",
    "plt.xlabel(r'$\\ell$')\n",
    "plt.ylabel(r'$iB_{-}(\\ell)$')"
   ]
  },
  {
   "cell_type": "code",
   "execution_count": 7,
   "id": "e5e90111-015e-48a9-a9ae-fb25cfe70587",
   "metadata": {},
   "outputs": [],
   "source": [
    "train_params = pd.read_csv('../data/prepared_param_nodes/i3PCF_sobol_training_2.6e5_nodes_part1.csv')\n",
    "\n",
    "Omega_m = train_params['Omega_m'].to_numpy().reshape(-1,1)\n",
    "As = np.log(10**10 * train_params['A_s'].to_numpy()).reshape(-1,1)\n",
    "w0 = train_params['w0'].to_numpy().reshape(-1,1)\n",
    "h = train_params['h'].to_numpy().reshape(-1,1)\n",
    "c_min = train_params['c_min'].to_numpy().reshape(-1,1)\n",
    "z = train_params['z'].to_numpy().reshape(-1,1)\n",
    "theta = np.concatenate((Omega_m, As, w0, h, c_min, z), axis=1)\n",
    "theta = np.delete(theta, skip_index, 0)\n",
    "\n",
    "theta = np.delete(theta, mask, axis=0)"
   ]
  },
  {
   "cell_type": "code",
   "execution_count": 31,
   "id": "f699ffe6-548e-40fb-9ad0-a32e5ee48ee8",
   "metadata": {},
   "outputs": [],
   "source": [
    "theta = np.delete(theta, skip_nanindex, axis=0)\n",
    "theta = np.delete(theta, negative_index, axis=0)\n",
    "theta = np.delete(theta, peak_index, axis=0)\n",
    "#theta = np.delete(theta, smooth_negative_index, axis=0)"
   ]
  },
  {
   "cell_type": "code",
   "execution_count": 32,
   "id": "a0eed3f1-e625-42d9-a5c2-eca7258e26b4",
   "metadata": {},
   "outputs": [],
   "source": [
    "params = {'Omega_m': theta[:,0],\n",
    "          'As': theta[:,1],\n",
    "          'w0': theta[:,2],\n",
    "          'h': theta[:,3],\n",
    "          'c_min': theta[:,4],\n",
    "          'z': theta[:,5]\n",
    "           }\n",
    "\n",
    "np.savez('../data/training_params/training_iBamm_U90W90W90_cosmogridv1_desy3_full_mask_sobol_6parameter_2.5e5_nodes.npz', **params)"
   ]
  },
  {
   "cell_type": "code",
   "execution_count": 33,
   "id": "68c381a0-e800-40ec-b35a-3d1d76ad1629",
   "metadata": {},
   "outputs": [
    {
     "name": "stdout",
     "output_type": "stream",
     "text": [
      "['Omega_m', 'As', 'w0', 'h', 'c_min', 'z']\n"
     ]
    }
   ],
   "source": [
    "train_params=np.load('../data/training_params/training_iBamm_U90W90W90_cosmogridv1_desy3_full_mask_sobol_6parameter_2.5e5_nodes.npz')\n",
    "model_parameters = train_params.files\n",
    "print(model_parameters)"
   ]
  },
  {
   "cell_type": "code",
   "execution_count": 34,
   "id": "cb4837eb-14a0-4833-bb30-bf58efc87b0e",
   "metadata": {},
   "outputs": [
    {
     "data": {
      "text/plain": [
       "(250969,)"
      ]
     },
     "execution_count": 34,
     "metadata": {},
     "output_type": "execute_result"
    }
   ],
   "source": [
    "train_params['As'].shape"
   ]
  },
  {
   "cell_type": "markdown",
   "id": "cc254b7a",
   "metadata": {},
   "source": [
    "### Load training parameters and power spectra"
   ]
  },
  {
   "cell_type": "code",
   "execution_count": 3,
   "id": "08277202-53aa-45ec-80ec-b759831358a6",
   "metadata": {},
   "outputs": [],
   "source": [
    "#n_ell = 100\n",
    "#ell = np.unique(np.logspace(np.log10(2), np.log10(15000), 113).astype(int))\n",
    "\n",
    "n_ell = 80\n",
    "ell = np.unique(np.logspace(np.log10(2), np.log10(15000), 88).astype(int))\n",
    "\n",
    "spectra = np.load('../data/training_grids/P_nl_grids_l80_shear_x_shear_COSMOGRIDV1_fiducial_no_neutrinos_i3PCF_sobol_training_2.6e5_nodes_part1.npy')\n",
    "\n",
    "#skip_index = np.where((spectra == -999).all(axis=1))[0]\n",
    "#np.save('../data/training_grids/skipped_nodes_for_training_P_Om_As_w0_h_z_cmin_parameters_sobol_wo_ell_2.6e5_nodes_nl_grids_cosmogridv1.npy', skip_index)\n",
    "\n",
    "skip_index = np.load('../data/training_grids/skipped_nodes_for_training_P_Om_As_w0_h_z_cmin_parameters_sobol_wo_ell_2.6e5_nodes_nl_grids_cosmogridv1.npy')\n",
    "skip_index = skip_index.astype(int).tolist()\n",
    "\n",
    "spectra = np.delete(spectra, skip_index, 0)"
   ]
  },
  {
   "cell_type": "code",
   "execution_count": 4,
   "id": "9a6b99b5",
   "metadata": {},
   "outputs": [
    {
     "name": "stdout",
     "output_type": "stream",
     "text": [
      "10\n",
      "The training nodes that have negative values are [ 32271  33392  55531  98333 102410 125466 134267 136663 226527 243268]\n",
      "8\n",
      "The training nodes that have values larger than 1e6 are [ 24271  49963  78692 166757 184537 189525 221190 248903]\n",
      "25\n",
      "The training nodes that have all values smaller than 1e2 are [  4581  23822  26182  53878  57208  62019  63503  77417  78229  80191\n",
      "  90595  94526  96895 104252 114069 138073 139695 141664 154761 166070\n",
      " 179811 196027 197009 222050 230400]\n",
      "0\n",
      "The training nodes that have values NaN are []\n",
      "7\n",
      "The training nodes that have increasing values on high ell [ 32271  33392  98333 125466 134267 226527 243268]\n"
     ]
    }
   ],
   "source": [
    "negative_mask = np.where((spectra < 0.0).any(axis=1))[0]\n",
    "peak_mask = np.where((spectra >= 1e6).any(axis=1))[0] # these are training nodes having only a single peak amplitude with extremely large values but on very large ell scales\n",
    "small_mask = np.where((spectra <= 1e2).all(axis=1))[0]\n",
    "nan_mask = np.where((np.isnan(spectra)).any(axis=1))[0]\n",
    "\n",
    "# Turn-up of power spectrum on high ell values\n",
    "rising_index_highell = []\n",
    "for i in range(spectra.shape[0]):\n",
    "    for j in range(60,n_ell-1):\n",
    "        if (spectra[i, j] < spectra[i, j+1]):\n",
    "            rising_index_highell.append(i)\n",
    "            break\n",
    "highell_mask = np.array(rising_index_highell)\n",
    "            \n",
    "print(len(negative_mask))\n",
    "print('The training nodes that have negative values are '+ str(negative_mask))\n",
    "print(len(peak_mask))\n",
    "print('The training nodes that have values larger than 1e6 are '+ str(peak_mask))\n",
    "print(len(small_mask))\n",
    "print('The training nodes that have all values smaller than 1e2 are '+ str(small_mask))\n",
    "print(len(nan_mask))\n",
    "print('The training nodes that have values NaN are '+ str(nan_mask))\n",
    "print(len(highell_mask))\n",
    "print('The training nodes that have increasing values on high ell '+ str(highell_mask))\n",
    "mask = np.concatenate((negative_mask, peak_mask, small_mask, nan_mask, highell_mask))\n",
    "mask = np.asarray(np.unique(mask), dtype=int)\n",
    "spectra = np.delete(spectra, mask, axis=0)"
   ]
  },
  {
   "cell_type": "code",
   "execution_count": 5,
   "id": "a13ada65",
   "metadata": {},
   "outputs": [],
   "source": [
    "train_params=pd.read_csv('../data/prepared_param_nodes/i3PCF_sobol_training_2.6e5_nodes_part1.csv')\n",
    "\n",
    "Omega_m = train_params['Omega_m'].to_numpy().reshape(-1,1)\n",
    "As = np.log(10**10 * train_params['A_s'].to_numpy()).reshape(-1,1)\n",
    "w0 = train_params['w0'].to_numpy().reshape(-1,1)\n",
    "h= train_params['h'].to_numpy().reshape(-1,1)\n",
    "c_min = train_params['c_min'].to_numpy().reshape(-1,1)\n",
    "z = train_params['z'].to_numpy().reshape(-1,1)\n",
    "\n",
    "theta = np.concatenate((Omega_m, As, w0, h, c_min, z), axis=1)\n",
    "theta = np.delete(theta, skip_index, axis=0)\n",
    "theta = np.delete(theta, mask, axis=0)"
   ]
  },
  {
   "cell_type": "code",
   "execution_count": 35,
   "id": "765269b4-42c2-4544-9955-fefebb51b7db",
   "metadata": {},
   "outputs": [],
   "source": [
    "theta = np.delete(theta, mask_extrapolate_small, axis=0)"
   ]
  },
  {
   "cell_type": "code",
   "execution_count": 36,
   "id": "abbf10f7",
   "metadata": {},
   "outputs": [],
   "source": [
    "params = {'Omega_m': theta[:,0],\n",
    "          'As': theta[:,1],\n",
    "          'w0': theta[:,2],\n",
    "          'h': theta[:,3],\n",
    "          'c_min': theta[:,4],\n",
    "          'z': theta[:,5]\n",
    "           }\n",
    "\n",
    "np.savez('../data/training_params/training_P_full_mask_1e-4_to_1e6_sobol_6parameter_2.5e5_nodes_cosmogridv1.npz', **params)"
   ]
  },
  {
   "cell_type": "code",
   "execution_count": 37,
   "id": "78613181",
   "metadata": {},
   "outputs": [
    {
     "name": "stdout",
     "output_type": "stream",
     "text": [
      "['Omega_m', 'As', 'w0', 'h', 'c_min', 'z']\n"
     ]
    }
   ],
   "source": [
    "train_params=np.load('../data/training_params/training_P_full_mask_1e-4_to_1e6_sobol_6parameter_2.5e5_nodes_cosmogridv1.npz')\n",
    "model_parameters = train_params.files\n",
    "print(model_parameters)"
   ]
  },
  {
   "cell_type": "code",
   "execution_count": 38,
   "id": "c9c4872b",
   "metadata": {},
   "outputs": [
    {
     "data": {
      "text/plain": [
       "(250878,)"
      ]
     },
     "execution_count": 38,
     "metadata": {},
     "output_type": "execute_result"
    }
   ],
   "source": [
    "train_params['As'].shape"
   ]
  },
  {
   "cell_type": "markdown",
   "id": "3ceea519",
   "metadata": {},
   "source": [
    "## scale the spectra for iB+"
   ]
  },
  {
   "cell_type": "code",
   "execution_count": 64,
   "id": "f74a0340",
   "metadata": {},
   "outputs": [],
   "source": [
    "spectra = spectra_ref"
   ]
  },
  {
   "cell_type": "code",
   "execution_count": 10,
   "id": "cb2ee52a",
   "metadata": {},
   "outputs": [],
   "source": [
    "spectra_ref = copy.deepcopy(spectra)"
   ]
  },
  {
   "cell_type": "code",
   "execution_count": 11,
   "id": "255ee807",
   "metadata": {},
   "outputs": [],
   "source": [
    "n_train_nodes = len(spectra[:,0])"
   ]
  },
  {
   "cell_type": "markdown",
   "id": "eb509bb0",
   "metadata": {},
   "source": [
    "### extrapolate the abrupt drop of iB+ on large $\\ell$ due to artificial k cut\n",
    "### in the new implementation, we don't do this"
   ]
  },
  {
   "cell_type": "code",
   "execution_count": 12,
   "id": "09358377",
   "metadata": {},
   "outputs": [],
   "source": [
    "extrapolate_index = []\n",
    "for i in range(n_train_nodes):\n",
    "    for j in range(70,n_ell-1):\n",
    "        if (spectra[i, j]/spectra[i, j+1] > 2.0):\n",
    "            extrapolate_index.append(i)\n",
    "            break"
   ]
  },
  {
   "cell_type": "code",
   "execution_count": 13,
   "id": "d6d71827",
   "metadata": {},
   "outputs": [
    {
     "name": "stdout",
     "output_type": "stream",
     "text": [
      "[   236    363    453 ... 247908 248118 248271]\n"
     ]
    },
    {
     "data": {
      "text/plain": [
       "1474"
      ]
     },
     "execution_count": 13,
     "metadata": {},
     "output_type": "execute_result"
    }
   ],
   "source": [
    "print(np.array(extrapolate_index))\n",
    "len(extrapolate_index)"
   ]
  },
  {
   "cell_type": "code",
   "execution_count": 16,
   "id": "71492f3a-5b3d-471b-b1d7-9b7e84fa01ed",
   "metadata": {},
   "outputs": [
    {
     "data": {
      "text/plain": [
       "Text(0, 0.5, '$iB_{+}(\\\\ell)$')"
      ]
     },
     "execution_count": 16,
     "metadata": {},
     "output_type": "execute_result"
    },
    {
     "data": {
      "image/png": "[encoded data removed]",
      "text/plain": [
       "<Figure size 640x480 with 1 Axes>"
      ]
     },
     "metadata": {},
     "output_type": "display_data"
    }
   ],
   "source": [
    "plt.plot(ell, spectra[247908])\n",
    "plt.yscale('log')\n",
    "plt.xscale('log')\n",
    "plt.xlabel(r'$\\ell$')\n",
    "plt.ylabel(r'$iB_{+}(\\ell)$')"
   ]
  },
  {
   "cell_type": "code",
   "execution_count": 15,
   "id": "ecd2afd4",
   "metadata": {},
   "outputs": [],
   "source": [
    "for i in range(len(extrapolate_index)):\n",
    "    for j in range(70, n_ell-1):\n",
    "        if (spectra[extrapolate_index[i], j]/spectra[extrapolate_index[i], j+1] > 2.0):\n",
    "            index_0 = j\n",
    "            slope = np.log10(spectra[extrapolate_index[i],index_0-1]/spectra[extrapolate_index[i],index_0-2])/np.log10(ell[index_0-1]/ell[index_0-2])\n",
    "            prediction = slope * (np.log10(ell[index_0-2:]) - np.log10(ell[index_0-2])) + np.log10(spectra[extrapolate_index[i],index_0-2])\n",
    "            if np.isnan(prediction).any() == True:\n",
    "                print(extrapolate_index[i])\n",
    "            prediction = 10**(prediction)\n",
    "            spectra[extrapolate_index[i]] = np.concatenate((spectra[extrapolate_index[i], :index_0-2], prediction))\n",
    "            break"
   ]
  },
  {
   "cell_type": "markdown",
   "id": "e75a9c33",
   "metadata": {},
   "source": [
    "### Smooth the fluctuations of iB+ on small $\\ell$ due to numeric noise"
   ]
  },
  {
   "cell_type": "code",
   "execution_count": 17,
   "id": "c56c4c9f",
   "metadata": {},
   "outputs": [],
   "source": [
    "smooth_index = []\n",
    "for i in range(n_train_nodes):\n",
    "    for j in range(20):\n",
    "        if (spectra[i, j]/spectra[i, j+1] > 2.0):\n",
    "            smooth_index.append(i)\n",
    "            break"
   ]
  },
  {
   "cell_type": "code",
   "execution_count": 18,
   "id": "e5d8c53e",
   "metadata": {},
   "outputs": [
    {
     "name": "stdout",
     "output_type": "stream",
     "text": [
      "[]\n"
     ]
    },
    {
     "data": {
      "text/plain": [
       "0"
      ]
     },
     "execution_count": 18,
     "metadata": {},
     "output_type": "execute_result"
    }
   ],
   "source": [
    "print(np.array(smooth_index))\n",
    "len(smooth_index)"
   ]
  },
  {
   "cell_type": "code",
   "execution_count": 79,
   "id": "fad156ac",
   "metadata": {},
   "outputs": [],
   "source": [
    "smooth_ell = np.arange(2, ell[20])\n",
    "n_smoothell = len(smooth_ell)\n",
    "for i in range(len(smooth_index)):\n",
    "    interp = interpolate.interp1d(ell[:21], spectra[smooth_index[i],:21], kind='cubic')\n",
    "    full_spectra = interp(smooth_ell)\n",
    "    spectra_filtered = signal.savgol_filter(full_spectra, 21, 1)\n",
    "    interp2 = interpolate.interp1d(smooth_ell, spectra_filtered, kind='cubic')\n",
    "    spectra[smooth_index[i],:20] = interp2(ell[:20])"
   ]
  },
  {
   "cell_type": "code",
   "execution_count": 18,
   "id": "47759c20",
   "metadata": {},
   "outputs": [],
   "source": [
    "full_ell = np.linspace(2, 15000, 14999)\n",
    "smooth_ell = np.arange(2, ell[20])\n",
    "n_smoothell = len(smooth_ell)\n",
    "for i in range(n_train_nodes):\n",
    "    interp = interpolate.interp1d(ell[:21], spectra[i,:21], kind='cubic')\n",
    "    full_spectra = interp(smooth_ell)\n",
    "    spectra_filtered = signal.savgol_filter(full_spectra, 21, 1)\n",
    "    interp2 = interpolate.interp1d(smooth_ell, spectra_filtered, kind='cubic')\n",
    "    spectra[i,:20] = interp2(ell[:20])\n",
    "    \n",
    "    #interp = interpolate.interp1d(ell, spectra[i,:], kind='cubic')\n",
    "    #full_spectra = interp(full_ell)\n",
    "    #spectra_filtered = signal.savgol_filter(full_spectra, 21, 1)\n",
    "    #interp2 = interpolate.interp1d(full_ell, spectra_filtered, kind='cubic')\n",
    "    #spectra[i,:36] = interp2(ell[:36])"
   ]
  },
  {
   "cell_type": "code",
   "execution_count": 19,
   "id": "c3fa37ee",
   "metadata": {},
   "outputs": [
    {
     "name": "stdout",
     "output_type": "stream",
     "text": [
      "1.846708282676357e-06\n"
     ]
    },
    {
     "data": {
      "text/plain": [
       "array([83580])"
      ]
     },
     "execution_count": 19,
     "metadata": {},
     "output_type": "execute_result"
    }
   ],
   "source": [
    "print(spectra.min())\n",
    "np.where(spectra == spectra.min())[0]"
   ]
  },
  {
   "cell_type": "code",
   "execution_count": 38,
   "id": "930730b3",
   "metadata": {},
   "outputs": [],
   "source": [
    "smooth_negative_index = np.where((spectra < 1e-6).any(axis=1))[0]\n",
    "spectra = np.delete(spectra, smooth_negative_index, axis=0)"
   ]
  },
  {
   "cell_type": "code",
   "execution_count": 37,
   "id": "614c6245-676d-438f-a866-c45d59953867",
   "metadata": {},
   "outputs": [
    {
     "data": {
      "text/plain": [
       "array([166973])"
      ]
     },
     "execution_count": 37,
     "metadata": {},
     "output_type": "execute_result"
    }
   ],
   "source": [
    "smooth_negative_index"
   ]
  },
  {
   "cell_type": "code",
   "execution_count": 20,
   "id": "311cb04e",
   "metadata": {},
   "outputs": [],
   "source": [
    "train_spectra = spectra\n",
    "#train_spectra = train_spectra/1000"
   ]
  },
  {
   "cell_type": "code",
   "execution_count": 19,
   "id": "b893e543",
   "metadata": {},
   "outputs": [],
   "source": [
    "np.savetxt('training_params/input_param_scaler/constant_shift_iBapp_U90W90W90_2e4_benchmark_w_negative_nodes.dat', np.array([abs(train_spectra.min())+1.0]))\n",
    "constant_shift = np.loadtxt('training_params/input_param_scaler/constant_shift_iBapp_U90W90W90_2e4_benchmark_w_negative_nodes.dat')"
   ]
  },
  {
   "cell_type": "code",
   "execution_count": 20,
   "id": "f8df12b9",
   "metadata": {},
   "outputs": [
    {
     "data": {
      "text/plain": [
       "array(2.09174399e+11)"
      ]
     },
     "execution_count": 20,
     "metadata": {},
     "output_type": "execute_result"
    }
   ],
   "source": [
    "train_spectra = train_spectra + constant_shift\n",
    "constant_shift"
   ]
  },
  {
   "cell_type": "code",
   "execution_count": 22,
   "id": "e155b9b1",
   "metadata": {},
   "outputs": [
    {
     "name": "stdout",
     "output_type": "stream",
     "text": [
      "(248352, 80)\n"
     ]
    }
   ],
   "source": [
    "power_vectors = []\n",
    "for i in range(train_spectra.shape[0]):\n",
    "    power_vectors.append(train_spectra[i,:])\n",
    "np.savez('../data/training_features/training_iBapp_params_sobol_cosmogridv1_desy3_2.6e5_GM_U130W130W130_log.npz',model=power_vectors)\n",
    "\n",
    "features = np.log10(np.load('../data/training_features/training_iBapp_params_sobol_cosmogridv1_desy3_2.6e5_GM_U130W130W130_log.npz')['model'])\n",
    "#features = np.load('training_features/training_iBapp_params_LHS_2e4_pdf_z_omega_GM_U70W70W70_nl_l100_smooth_standardscale.npz')['model']\n",
    "print(features.shape)"
   ]
  },
  {
   "cell_type": "code",
   "execution_count": 24,
   "id": "909bf0b5",
   "metadata": {},
   "outputs": [
    {
     "data": {
      "text/plain": [
       "9.999931147016975"
      ]
     },
     "execution_count": 24,
     "metadata": {},
     "output_type": "execute_result"
    }
   ],
   "source": [
    "features.max()"
   ]
  },
  {
   "cell_type": "markdown",
   "id": "7f7f41ce",
   "metadata": {},
   "source": [
    "## scale the spectra for iB-"
   ]
  },
  {
   "cell_type": "code",
   "execution_count": 35,
   "id": "e9579334",
   "metadata": {},
   "outputs": [],
   "source": [
    "spectra = spectra_ref"
   ]
  },
  {
   "cell_type": "code",
   "execution_count": 8,
   "id": "d8b5c4c2",
   "metadata": {},
   "outputs": [],
   "source": [
    "#spectra = np.concatenate((spectra, spectra_des), axis=0)\n",
    "spectra_regular = copy.deepcopy(spectra)\n",
    "spectra_ref = copy.deepcopy(spectra)"
   ]
  },
  {
   "cell_type": "code",
   "execution_count": 9,
   "id": "48113474",
   "metadata": {},
   "outputs": [],
   "source": [
    "n_train_nodes = len(spectra[:,0])"
   ]
  },
  {
   "cell_type": "code",
   "execution_count": 10,
   "id": "444bce8f",
   "metadata": {},
   "outputs": [],
   "source": [
    "extrapolate_index = []\n",
    "for i in range(n_train_nodes):\n",
    "    for j in range(60,n_ell-1):\n",
    "        if (spectra_regular[i, j]/spectra_regular[i, j+1] > 2.0) or (spectra_regular[i, j+1] < 0.0):\n",
    "            extrapolate_index.append(i)\n",
    "            break"
   ]
  },
  {
   "cell_type": "code",
   "execution_count": 11,
   "id": "1866ac3f",
   "metadata": {},
   "outputs": [
    {
     "name": "stdout",
     "output_type": "stream",
     "text": [
      "[   238    365    427 ... 250918 250982 251026]\n",
      "2312\n"
     ]
    }
   ],
   "source": [
    "print(np.array(extrapolate_index))\n",
    "print(len(extrapolate_index))"
   ]
  },
  {
   "cell_type": "code",
   "execution_count": 17,
   "id": "079c3109",
   "metadata": {},
   "outputs": [
    {
     "data": {
      "image/png": "[encoded data removed]",
      "text/plain": [
       "<Figure size 640x480 with 1 Axes>"
      ]
     },
     "metadata": {},
     "output_type": "display_data"
    }
   ],
   "source": [
    "plt.plot(ell, spectra_ref[250918])\n",
    "plt.plot(ell, spectra_regular[250918])\n",
    "plt.xscale('log')\n",
    "#plt.yscale('log')"
   ]
  },
  {
   "cell_type": "code",
   "execution_count": 14,
   "id": "1ddd48a6",
   "metadata": {},
   "outputs": [
    {
     "name": "stderr",
     "output_type": "stream",
     "text": [
      "/tmp/ipykernel_518365/312525488.py:6: RuntimeWarning: invalid value encountered in log10\n",
      "  slope = np.log10(spectra_regular[extrapolate_index[i],index_0-1]/spectra_regular[extrapolate_index[i],index_0-2])/np.log10(ell[index_0-1]/ell[index_0-2])\n",
      "/tmp/ipykernel_518365/312525488.py:8: RuntimeWarning: invalid value encountered in log10\n",
      "  prediction = slope * (np.log10(ell[index_0-1:]) - np.log10(ell[index_0-1])) + np.log10(spectra_regular[extrapolate_index[i],index_0-1])\n"
     ]
    }
   ],
   "source": [
    "for i in range(len(extrapolate_index)):\n",
    "    for j in range(60,n_ell-1):\n",
    "        if (spectra_regular[extrapolate_index[i], j]/spectra_regular[extrapolate_index[i], j+1] > 2.0) or (spectra_regular[extrapolate_index[i], j+1] < 0.0):\n",
    "            index_0 = j\n",
    "            break\n",
    "    slope = np.log10(spectra_regular[extrapolate_index[i],index_0-1]/spectra_regular[extrapolate_index[i],index_0-2])/np.log10(ell[index_0-1]/ell[index_0-2])\n",
    "    #slope = np.log10(spectra_regular[extrapolate_index[i],index_0]/spectra_regular[extrapolate_index[i],index_0-1])/np.log10(ell[index_0]/ell[index_0-1])\n",
    "    prediction = slope * (np.log10(ell[index_0-1:]) - np.log10(ell[index_0-1])) + np.log10(spectra_regular[extrapolate_index[i],index_0-1])\n",
    "    prediction = 10**(prediction)\n",
    "    spectra_regular[extrapolate_index[i]] = np.concatenate((spectra_regular[extrapolate_index[i], :index_0-1], prediction))"
   ]
  },
  {
   "cell_type": "markdown",
   "id": "a36b0d4e",
   "metadata": {},
   "source": [
    "### smooth on low $\\ell$"
   ]
  },
  {
   "cell_type": "code",
   "execution_count": 16,
   "id": "0538854c",
   "metadata": {},
   "outputs": [],
   "source": [
    "full_ell = np.linspace(2, 15000, 14999)\n",
    "full_ell_kitching = np.linspace(2.5, 15000.5, 14999)\n",
    "n_fullell = len(full_ell)\n",
    "train_spectra = np.zeros((n_train_nodes, n_ell))\n",
    "for i in range(n_train_nodes):\n",
    "    interp = interpolate.interp1d(ell, spectra_regular[i,:], kind='cubic')\n",
    "    full_spectra = interp(full_ell)\n",
    "    spectra_filtered = signal.savgol_filter(full_spectra, 21, 1)\n",
    "    interp2 = interpolate.interp1d(full_ell, spectra_filtered, kind='cubic')\n",
    "    spectra_regular[i,:30] = interp2(ell[:30])\n",
    "    #interp3 = interpolate.interp1d(ell, spectra_regular[i,:], kind='cubic', fill_value='extrapolate')\n",
    "    #train_spectra[i] = interp3(full_ell_kitching)"
   ]
  },
  {
   "cell_type": "code",
   "execution_count": 33,
   "id": "89833faa",
   "metadata": {},
   "outputs": [],
   "source": [
    "spectra_regular_des = copy.deepcopy(spectra_des)\n",
    "spectra_ref_des = copy.deepcopy(spectra_des)"
   ]
  },
  {
   "cell_type": "code",
   "execution_count": 34,
   "id": "f06e4cbd",
   "metadata": {},
   "outputs": [],
   "source": [
    "n_train_nodes = len(spectra_des[:,0])"
   ]
  },
  {
   "cell_type": "code",
   "execution_count": 35,
   "id": "84427f78",
   "metadata": {},
   "outputs": [],
   "source": [
    "extrapolate_index = []\n",
    "for i in range(n_train_nodes):\n",
    "    for j in range(60,n_ell-1):\n",
    "        if (spectra_regular_des[i, j]/spectra_regular_des[i, j+1] > 2.0) or (spectra_regular_des[i, j+1] < 0.0):\n",
    "            extrapolate_index.append(i)\n",
    "            break"
   ]
  },
  {
   "cell_type": "code",
   "execution_count": 36,
   "id": "1a4d50d8",
   "metadata": {},
   "outputs": [
    {
     "data": {
      "text/plain": [
       "array([  16,   57,   61,   80,   86,  135,  152,  157,  270,  287,  346,\n",
       "        493,  499,  525,  538,  573,  607,  608,  698,  745,  781,  889,\n",
       "       1032, 1082, 1092, 1122, 1188, 1304, 1348, 1360, 1364, 1372, 1397,\n",
       "       1427, 1444, 1593, 1705, 1775, 1800, 1803, 1821, 1863, 1885, 1974,\n",
       "       1975, 2001, 2087, 2169, 2222, 2243, 2306, 2370, 2378, 2393, 2405,\n",
       "       2414, 2421, 2424, 2433, 2437, 2473, 2475, 2495, 2534, 2543, 2593,\n",
       "       2606, 2608, 2630, 2637, 2709, 2710, 2723, 2755, 2777, 2842, 2858,\n",
       "       2910, 2932, 2986, 2989, 3065, 3087, 3125, 3281, 3353, 3379, 3417,\n",
       "       3613, 3616, 3638, 3669, 3673, 3710, 3753, 3798, 3815, 3921, 3930,\n",
       "       3937, 3961, 3985, 4184, 4217, 4276, 4400, 4425, 4436, 4465, 4484,\n",
       "       4517, 4624, 4654, 4664, 4704, 4722, 4757, 4865, 4891, 4951, 4998,\n",
       "       5065, 5083, 5109, 5145, 5155, 5235, 5426, 5453, 5458, 5462, 5477,\n",
       "       5552, 5584, 5615, 5633, 5641, 5715, 5731, 5739, 5740, 5793, 5800,\n",
       "       5802, 5829, 5837, 5900, 5950, 6032, 6106, 6110, 6113, 6129, 6162,\n",
       "       6236, 6248, 6291, 6311, 6353, 6396, 6409, 6418, 6444, 6517, 6581,\n",
       "       6616, 6718, 6740, 6818, 6851, 6978, 6979, 6995, 7057, 7133, 7148,\n",
       "       7153, 7213, 7215, 7283, 7303, 7332, 7412, 7413, 7639, 7650, 7668,\n",
       "       7736, 7790, 7815, 7914, 8022, 8041, 8105, 8142, 8231, 8241, 8323,\n",
       "       8415, 8433, 8479, 8500, 8517, 8531, 8548, 8563, 8612, 8728, 8743,\n",
       "       8777, 8798, 8823, 8864, 8910, 8987, 9033, 9094, 9099, 9147, 9214,\n",
       "       9225, 9232, 9277, 9314, 9342, 9363, 9421, 9545, 9596, 9611, 9616,\n",
       "       9623, 9631, 9667, 9679, 9692, 9747, 9755, 9878, 9981])"
      ]
     },
     "execution_count": 36,
     "metadata": {},
     "output_type": "execute_result"
    }
   ],
   "source": [
    "np.array(extrapolate_index)"
   ]
  },
  {
   "cell_type": "code",
   "execution_count": 45,
   "id": "857e6caa",
   "metadata": {},
   "outputs": [
    {
     "data": {
      "image/png": "[encoded data removed]",
      "text/plain": [
       "<Figure size 432x288 with 1 Axes>"
      ]
     },
     "metadata": {
      "needs_background": "light"
     },
     "output_type": "display_data"
    }
   ],
   "source": [
    "plt.plot(ell, spectra_ref_des[5950])\n",
    "plt.plot(ell, spectra_regular_des[5950])\n",
    "plt.xscale('log')\n",
    "plt.yscale('log')"
   ]
  },
  {
   "cell_type": "code",
   "execution_count": 37,
   "id": "089f9b0b",
   "metadata": {},
   "outputs": [],
   "source": [
    "for i in range(len(extrapolate_index)):\n",
    "    for j in range(60,n_ell-1):\n",
    "        if (spectra_regular_des[extrapolate_index[i], j]/spectra_regular_des[extrapolate_index[i], j+1] > 2.0) or (spectra_regular_des[extrapolate_index[i], j+1] < 0.0):\n",
    "            index_0 = j\n",
    "            break\n",
    "    slope = np.log10(spectra_regular_des[extrapolate_index[i],index_0-1]/spectra_regular_des[extrapolate_index[i],index_0-2])/np.log10(ell[index_0-1]/ell[index_0-2])\n",
    "    #slope = np.log10(spectra_regular[extrapolate_index[i],index_0]/spectra_regular[extrapolate_index[i],index_0-1])/np.log10(ell[index_0]/ell[index_0-1])\n",
    "    prediction = slope * (np.log10(ell[index_0-1:]) - np.log10(ell[index_0-1])) + np.log10(spectra_regular_des[extrapolate_index[i],index_0-1])\n",
    "    prediction = 10**(prediction)\n",
    "    spectra_regular_des[extrapolate_index[i]] = np.concatenate((spectra_regular_des[extrapolate_index[i], :index_0-1], prediction))"
   ]
  },
  {
   "cell_type": "code",
   "execution_count": 41,
   "id": "8df533d5",
   "metadata": {},
   "outputs": [],
   "source": [
    "full_ell = np.linspace(2, 15000, 14999)\n",
    "full_ell_kitching = np.linspace(2.5, 15000.5, 14999)\n",
    "n_fullell = len(full_ell)\n",
    "for i in range(n_train_nodes):\n",
    "    interp = interpolate.interp1d(ell, spectra_regular_des[i,:], kind='cubic')\n",
    "    full_spectra = interp(full_ell)\n",
    "    spectra_filtered = signal.savgol_filter(full_spectra, 61, 1)\n",
    "    interp2 = interpolate.interp1d(full_ell, spectra_filtered, kind='cubic')\n",
    "    spectra_regular_des[i,:34] = interp2(ell[:34])"
   ]
  },
  {
   "cell_type": "code",
   "execution_count": 47,
   "id": "6f61f8fd",
   "metadata": {},
   "outputs": [],
   "source": [
    "n_train_nodes = len(spectra_regular[:,0]) + len(spectra_regular_des[:,0])\n",
    "train_spectra = np.concatenate((spectra_regular, spectra_regular_des), axis=0)"
   ]
  },
  {
   "cell_type": "code",
   "execution_count": 18,
   "id": "4e6c19de",
   "metadata": {},
   "outputs": [
    {
     "data": {
      "text/plain": [
       "(251064, 80)"
      ]
     },
     "execution_count": 18,
     "metadata": {},
     "output_type": "execute_result"
    }
   ],
   "source": [
    "train_spectra = spectra_regular\n",
    "train_spectra.shape"
   ]
  },
  {
   "cell_type": "code",
   "execution_count": 19,
   "id": "d78b24dd-6e5f-449f-ab4a-93abcb2d71ca",
   "metadata": {},
   "outputs": [],
   "source": [
    "skip_nanindex = np.unique(np.where(np.isnan(train_spectra) == True)[0])"
   ]
  },
  {
   "cell_type": "code",
   "execution_count": 20,
   "id": "f49adaa4-4b80-4791-a692-78aba4541bb5",
   "metadata": {},
   "outputs": [
    {
     "data": {
      "text/plain": [
       "(2,)"
      ]
     },
     "execution_count": 20,
     "metadata": {},
     "output_type": "execute_result"
    }
   ],
   "source": [
    "skip_nanindex.shape"
   ]
  },
  {
   "cell_type": "code",
   "execution_count": 21,
   "id": "0eaf8dc9-e72e-4a61-8c04-30b8e3faebcf",
   "metadata": {},
   "outputs": [],
   "source": [
    "train_spectra = np.delete(train_spectra, skip_nanindex, axis=0)"
   ]
  },
  {
   "cell_type": "code",
   "execution_count": 22,
   "id": "2b01b150-c4e6-42cb-b478-19b5f6231e6c",
   "metadata": {},
   "outputs": [
    {
     "name": "stdout",
     "output_type": "stream",
     "text": [
      "(93,)\n"
     ]
    }
   ],
   "source": [
    "negative_index = np.where((train_spectra < -1e7).any(axis=1))[0]\n",
    "print(negative_index.shape)\n",
    "train_spectra = np.delete(train_spectra, negative_index, axis=0)"
   ]
  },
  {
   "cell_type": "code",
   "execution_count": 23,
   "id": "853a3a94-9672-4157-81be-1f9316ad0caa",
   "metadata": {},
   "outputs": [
    {
     "name": "stdout",
     "output_type": "stream",
     "text": [
      "(0,)\n"
     ]
    }
   ],
   "source": [
    "peak_index = np.where((train_spectra > 1e10).any(axis=1))[0]\n",
    "print(peak_index.shape)\n",
    "train_spectra = np.delete(train_spectra, peak_index, axis=0)"
   ]
  },
  {
   "cell_type": "code",
   "execution_count": 24,
   "id": "317fc727",
   "metadata": {},
   "outputs": [
    {
     "name": "stdout",
     "output_type": "stream",
     "text": [
      "-9988048.6200468\n",
      "(array([65021]), array([0]))\n"
     ]
    }
   ],
   "source": [
    "print(train_spectra.min())\n",
    "print(np.where(train_spectra == train_spectra.min()))"
   ]
  },
  {
   "cell_type": "code",
   "execution_count": 25,
   "id": "7af1de04-1d40-4033-a962-a9e1a94c88bf",
   "metadata": {},
   "outputs": [
    {
     "data": {
      "text/plain": [
       "array([9988049.6200468])"
      ]
     },
     "execution_count": 25,
     "metadata": {},
     "output_type": "execute_result"
    }
   ],
   "source": [
    "np.array([abs(train_spectra.min())+1.0])"
   ]
  },
  {
   "cell_type": "code",
   "execution_count": 26,
   "id": "29777568",
   "metadata": {},
   "outputs": [],
   "source": [
    "np.savetxt('../data/training_params/input_param_scaler/constant_shift_iBamm_U90W90_cosmogridv1_desy3_full_mask_sobol_6parameter_2.5e5_nodes.dat', np.array([abs(train_spectra.min())+1.0]))\n",
    "constant_shift = np.loadtxt('../data/training_params/input_param_scaler/constant_shift_iBamm_U90W90_cosmogridv1_desy3_full_mask_sobol_6parameter_2.5e5_nodes.dat')"
   ]
  },
  {
   "cell_type": "code",
   "execution_count": 27,
   "id": "63220388",
   "metadata": {},
   "outputs": [],
   "source": [
    "train_spectra = train_spectra + constant_shift"
   ]
  },
  {
   "cell_type": "code",
   "execution_count": 28,
   "id": "f0dca127",
   "metadata": {},
   "outputs": [
    {
     "name": "stdout",
     "output_type": "stream",
     "text": [
      "(250969, 80)\n"
     ]
    }
   ],
   "source": [
    "n_train_nodes = train_spectra.shape[0]\n",
    "power_vectors = []\n",
    "for i in range(n_train_nodes):\n",
    "    power_vectors.append(train_spectra[i,:])\n",
    "np.savez('../data/training_features/training_iBamm_params_sobol_cosmogridv1_desy3_2.6e5_GM_U90W90W90_log.npz',model=power_vectors)\n",
    "\n",
    "features = np.log10(np.load('../data/training_features/training_iBamm_params_sobol_cosmogridv1_desy3_2.6e5_GM_U90W90W90_log.npz')['model'])\n",
    "#features = np.load('../data/training_features/training_iBamm_params_sobol_cosmogridv1_desy3_2.6e5_GM_U90W90W90_log_update.npz')['model']\n",
    "print(features.shape)"
   ]
  },
  {
   "cell_type": "code",
   "execution_count": 30,
   "id": "dc9af766",
   "metadata": {},
   "outputs": [
    {
     "data": {
      "text/plain": [
       "9.99643641167535"
      ]
     },
     "execution_count": 30,
     "metadata": {},
     "output_type": "execute_result"
    }
   ],
   "source": [
    "features.max()"
   ]
  },
  {
   "cell_type": "markdown",
   "id": "51092f62",
   "metadata": {},
   "source": [
    "## scale the spectra for P"
   ]
  },
  {
   "cell_type": "code",
   "execution_count": 7,
   "id": "c8c4dc65",
   "metadata": {},
   "outputs": [],
   "source": [
    "spectra_regular = copy.deepcopy(spectra)\n",
    "spectra_ref = copy.deepcopy(spectra)"
   ]
  },
  {
   "cell_type": "code",
   "execution_count": 8,
   "id": "3b45f88f",
   "metadata": {},
   "outputs": [],
   "source": [
    "n_train_nodes = len(spectra[:,0])"
   ]
  },
  {
   "cell_type": "code",
   "execution_count": 9,
   "id": "aea2e4e2",
   "metadata": {},
   "outputs": [],
   "source": [
    "extrapolate_index_highell = []\n",
    "for i in range(n_train_nodes):\n",
    "    for j in range(15,n_ell-1):\n",
    "        if (spectra_regular[i, j] != 0.0) and (spectra_regular[i, j+1] == 0.0):\n",
    "            extrapolate_index_highell.append(i)\n",
    "            break"
   ]
  },
  {
   "cell_type": "code",
   "execution_count": 10,
   "id": "894b47e2",
   "metadata": {},
   "outputs": [
    {
     "name": "stdout",
     "output_type": "stream",
     "text": [
      "(2388,)\n"
     ]
    }
   ],
   "source": [
    "print(np.array(extrapolate_index_highell).shape)"
   ]
  },
  {
   "cell_type": "code",
   "execution_count": 13,
   "id": "f480c1ce",
   "metadata": {},
   "outputs": [
    {
     "data": {
      "image/png": "[encoded data removed]",
      "text/plain": [
       "<Figure size 640x480 with 1 Axes>"
      ]
     },
     "metadata": {},
     "output_type": "display_data"
    }
   ],
   "source": [
    "plt.plot(ell, spectra_ref[extrapolate_index_highell[1300]])\n",
    "plt.plot(ell, spectra_regular[extrapolate_index_highell[1300]])\n",
    "plt.xscale('log')\n",
    "plt.yscale('log')"
   ]
  },
  {
   "cell_type": "code",
   "execution_count": 12,
   "id": "cc20ed1d",
   "metadata": {},
   "outputs": [],
   "source": [
    "for i in range(len(extrapolate_index_highell)):\n",
    "    for j in range(15,n_ell-1):\n",
    "        if (spectra_regular[extrapolate_index_highell[i], j] != 0.0) and (spectra_regular[extrapolate_index_highell[i], j+1] == 0.0):\n",
    "            index_0 = j\n",
    "            break\n",
    "    slope = np.log10(spectra_regular[extrapolate_index_highell[i],index_0-1]/spectra_regular[extrapolate_index_highell[i],index_0-2])/np.log10(ell[index_0-1]/ell[index_0-2])\n",
    "    #slope = np.log10(spectra_regular[extrapolate_index[i],index_0]/spectra_regular[extrapolate_index[i],index_0-1])/np.log10(ell[index_0]/ell[index_0-1])\n",
    "    prediction = slope * (np.log10(ell[index_0-1:]) - np.log10(ell[index_0-1])) + np.log10(spectra_regular[extrapolate_index_highell[i],index_0-1])\n",
    "    prediction = 10**(prediction)\n",
    "    spectra_regular[extrapolate_index_highell[i]] = np.concatenate((spectra_regular[extrapolate_index_highell[i], :index_0-1], prediction))"
   ]
  },
  {
   "cell_type": "code",
   "execution_count": 14,
   "id": "9e5d1886",
   "metadata": {},
   "outputs": [],
   "source": [
    "extrapolate_index_lowell = []\n",
    "for i in range(n_train_nodes):\n",
    "    for j in range(15):\n",
    "        if (spectra_regular[i, j] == 0.0) and (spectra_regular[i, j+1] != 0.0):\n",
    "            extrapolate_index_lowell.append(i)\n",
    "            break"
   ]
  },
  {
   "cell_type": "code",
   "execution_count": 15,
   "id": "ba1b0d32",
   "metadata": {},
   "outputs": [
    {
     "name": "stdout",
     "output_type": "stream",
     "text": [
      "(123792,)\n"
     ]
    }
   ],
   "source": [
    "print(np.array(extrapolate_index_lowell).shape)"
   ]
  },
  {
   "cell_type": "code",
   "execution_count": 18,
   "id": "8ec814f1-d566-44f0-a8ab-f0ad5e48c8d9",
   "metadata": {},
   "outputs": [
    {
     "data": {
      "image/png": "[encoded data removed]",
      "text/plain": [
       "<Figure size 640x480 with 1 Axes>"
      ]
     },
     "metadata": {},
     "output_type": "display_data"
    }
   ],
   "source": [
    "plt.plot(ell, spectra_ref[extrapolate_index_lowell[820]])\n",
    "plt.plot(ell, spectra_regular[extrapolate_index_lowell[820]])\n",
    "plt.xscale('log')\n",
    "plt.yscale('log')"
   ]
  },
  {
   "cell_type": "code",
   "execution_count": 17,
   "id": "9a08998b",
   "metadata": {},
   "outputs": [],
   "source": [
    "for i in range(len(extrapolate_index_lowell)):\n",
    "    for j in range(15):\n",
    "        if (spectra_regular[extrapolate_index_lowell[i], j] == 0.0) and (spectra_regular[extrapolate_index_lowell[i], j+1] != 0.0):\n",
    "            index_0 = j+1\n",
    "            break\n",
    "    slope = np.log10(spectra_regular[extrapolate_index_lowell[i],index_0+2]/spectra_regular[extrapolate_index_lowell[i],index_0+1])/np.log10(ell[index_0+2]/ell[index_0+1])\n",
    "    prediction = slope * (np.log10(ell[:index_0+2]) - np.log10(ell[index_0+1])) + np.log10(spectra_regular[extrapolate_index_lowell[i],index_0+1])\n",
    "    prediction = 10**(prediction)\n",
    "    spectra_regular[extrapolate_index_lowell[i]] = np.concatenate((prediction, spectra_regular[extrapolate_index_lowell[i], index_0+2:]))"
   ]
  },
  {
   "cell_type": "code",
   "execution_count": 27,
   "id": "f5f074b3",
   "metadata": {},
   "outputs": [
    {
     "name": "stdout",
     "output_type": "stream",
     "text": [
      "993333.4508908003\n",
      "3.6897341608800527e-10\n",
      "[166491]\n"
     ]
    }
   ],
   "source": [
    "train_spectra = spectra_regular\n",
    "#train_spectra = spectra_regular + abs(spectra_regular.min()) + 1\n",
    "print(train_spectra.max())\n",
    "print(train_spectra.min())\n",
    "print(np.where(train_spectra==train_spectra.min())[0])"
   ]
  },
  {
   "cell_type": "code",
   "execution_count": 20,
   "id": "2922708f",
   "metadata": {},
   "outputs": [],
   "source": [
    "mask_extrapolate_small = np.where((train_spectra <= 1e-4).any(axis=1))[0]"
   ]
  },
  {
   "cell_type": "code",
   "execution_count": 30,
   "id": "82de0a99-3ce6-4670-b6cb-5415975bec20",
   "metadata": {},
   "outputs": [
    {
     "data": {
      "text/plain": [
       "(444,)"
      ]
     },
     "execution_count": 30,
     "metadata": {},
     "output_type": "execute_result"
    }
   ],
   "source": [
    "mask_extrapolate_small.shape"
   ]
  },
  {
   "cell_type": "code",
   "execution_count": 28,
   "id": "f6517f7b-3276-4633-a515-5f3696ceb0e5",
   "metadata": {},
   "outputs": [
    {
     "data": {
      "image/png": "[encoded data removed]",
      "text/plain": [
       "<Figure size 640x480 with 1 Axes>"
      ]
     },
     "metadata": {},
     "output_type": "display_data"
    }
   ],
   "source": [
    "plt.plot(ell, train_spectra[166491])\n",
    "plt.xscale('log')\n",
    "plt.yscale('log')"
   ]
  },
  {
   "cell_type": "code",
   "execution_count": 31,
   "id": "0e96bc57-9d58-4ec2-92c6-a546e637da96",
   "metadata": {},
   "outputs": [],
   "source": [
    "train_spectra = np.delete(train_spectra, mask_extrapolate_small, axis=0)"
   ]
  },
  {
   "cell_type": "code",
   "execution_count": 32,
   "id": "40c5a849",
   "metadata": {},
   "outputs": [
    {
     "name": "stdout",
     "output_type": "stream",
     "text": [
      "(250878, 80)\n"
     ]
    }
   ],
   "source": [
    "\"\"\"\n",
    "# How we produce feature files for PCA\n",
    "ell = np.unique(np.logspace(np.log10(2), np.log10(15000), 113).astype(int))\n",
    "power_vectors = np.log10(train_spectra[167432:,:])  \n",
    "np.savez('../data/PCA/training_features/training_logP_6params_sobol_2.5e5_nl_ell100_3.npz',modes=ell, features=power_vectors)\n",
    "\"\"\"\n",
    "\n",
    "# How we produce feature files for NN\n",
    "n_train_nodes = train_spectra.shape[0]\n",
    "power_vectors = []\n",
    "#for  i in range(1000):\n",
    "for i in range(n_train_nodes):\n",
    "    power_vectors.append(train_spectra[i,:])\n",
    "np.savez('../data/training_features/training_P_1e-4_to_1e6_6params_sobol_2.5e5_nl_ell80_cosmogridv1.npz',model=power_vectors)\n",
    "features = np.log10(np.load('../data/training_features/training_P_1e-4_to_1e6_6params_sobol_2.5e5_nl_ell80_cosmogridv1.npz')['model'])\n",
    "print(features.shape)"
   ]
  },
  {
   "cell_type": "code",
   "execution_count": 34,
   "id": "7ce583c6-985d-435b-9a13-0f2ca53f3ce3",
   "metadata": {},
   "outputs": [
    {
     "name": "stdout",
     "output_type": "stream",
     "text": [
      "-3.997259826931338\n"
     ]
    }
   ],
   "source": [
    "print(features.min())"
   ]
  },
  {
   "cell_type": "code",
   "execution_count": 65,
   "id": "2bdfed97-9cd5-472f-a5b5-a72433527cb4",
   "metadata": {},
   "outputs": [
    {
     "name": "stdout",
     "output_type": "stream",
     "text": [
      "['modes', 'features']\n",
      "[    2     3     4     5     6     7     8     9    10    11    12    13\n",
      "    14    15    17    18    20    21    23    25    27    30    32    35\n",
      "    38    41    44    48    52    56    61    66    72    78    84    91\n",
      "    99   107   116   125   136   147   159   173   187   203   219   238\n",
      "   257   279   302   327   354   384   416   450   487   528   572   619\n",
      "   671   726   786   852   922   999  1082  1172  1269  1374  1488  1611\n",
      "  1745  1890  2047  2216  2400  2599  2815  3048  3301  3575  3871  4192\n",
      "  4540  4917  5324  5766  6244  6762  7323  7930  8588  9300 10071 10906\n",
      " 11811 12790 13851 15000]\n",
      "number of multipoles:  100\n",
      "(number of training samples in this file, number of ell modes):  (83716, 100)\n"
     ]
    }
   ],
   "source": [
    "training_features_1 = np.load('../data/PCA/training_features/training_logP_6params_sobol_2.5e5_nl_ell100_1.npz')\n",
    "print(training_features_1.files)\n",
    "print(training_features_1['modes'])\n",
    "print('number of multipoles: ', len(training_features_1['modes']))\n",
    "training_log_spectra_1 = training_features_1['features']\n",
    "print('(number of training samples in this file, number of ell modes): ', training_log_spectra_1.shape)"
   ]
  },
  {
   "cell_type": "code",
   "execution_count": 4,
   "id": "67d8c34c-bd8d-4eab-976a-dc9c2091fad6",
   "metadata": {},
   "outputs": [],
   "source": [
    "features = np.load('../data/PCA/training_features/training_logP_6params_sobol_2.5e5_nl_ell100_1.npz')['features']\n",
    "features = 10**features"
   ]
  },
  {
   "cell_type": "code",
   "execution_count": 21,
   "id": "f0c19c31-5700-4372-8a93-41861735bd90",
   "metadata": {},
   "outputs": [],
   "source": [
    "np.savetxt('../data/training_features/constant_training_P_6params_sobol_2.5e5_nl_ell100_minplus1_addition.dat', np.array([abs(spectra_regular.min()) + 1]))"
   ]
  },
  {
   "cell_type": "code",
   "execution_count": 106,
   "id": "5fc10f00",
   "metadata": {},
   "outputs": [
    {
     "name": "stdout",
     "output_type": "stream",
     "text": [
      "4.977102872984659\n"
     ]
    }
   ],
   "source": [
    "print(features.max())"
   ]
  },
  {
   "cell_type": "markdown",
   "id": "81d556a4-aec6-4b48-8e20-22550e12d771",
   "metadata": {},
   "source": [
    "### PCA"
   ]
  },
  {
   "cell_type": "code",
   "execution_count": 69,
   "id": "bb8da905-54a1-429f-94ac-c6b9b6686178",
   "metadata": {},
   "outputs": [],
   "source": [
    "full_ell = np.linspace(2, 15000, 14999)\n",
    "full_ell_kitching = np.linspace(2.5, 15000.5, 14999)\n",
    "ell = np.unique(np.logspace(np.log10(2), np.log10(15000), 113).astype(int))"
   ]
  },
  {
   "cell_type": "code",
   "execution_count": 70,
   "id": "e5aab3e6-00b4-4a87-9b4f-ecde03b4ca3d",
   "metadata": {},
   "outputs": [],
   "source": [
    "modes = ell\n",
    "n_pcas = 64\n",
    "parameters_filenames = ['../data/PCA/training_params/training_P_full_mask_sobol_6parameter_2.5e5_nodes_1', '../data/PCA/training_params/training_P_full_mask_sobol_6parameter_2.5e5_nodes_2', '../data/PCA/training_params/training_P_full_mask_sobol_6parameter_2.5e5_nodes_3']\n",
    "features_filenames = ['../data/PCA/training_features/training_logP_6params_sobol_2.5e5_nl_ell100_1', '../data/PCA/training_features/training_logP_6params_sobol_2.5e5_nl_ell100_2', '../data/PCA/training_features/training_logP_6params_sobol_2.5e5_nl_ell100_3']"
   ]
  },
  {
   "cell_type": "code",
   "execution_count": 71,
   "id": "24bad84b-ba5d-4598-8a6a-1942d4ec0154",
   "metadata": {},
   "outputs": [],
   "source": [
    "# list of parameter names, in arbitrary order\n",
    "model_parameters = ['Omega_m', 'As', 'w0', 'h', 'c_min', 'z']"
   ]
  },
  {
   "cell_type": "code",
   "execution_count": 72,
   "id": "d2ef4d62-0142-4cee-ad5c-72f829eca231",
   "metadata": {},
   "outputs": [
    {
     "name": "stdout",
     "output_type": "stream",
     "text": [
      "\n",
      "Initialized cosmopower_PCA compression with 16 components \n",
      "\n"
     ]
    }
   ],
   "source": [
    "from cosmopower import cosmopower_PCA\n",
    "\n",
    "cp_pca = cosmopower_PCA(parameters=model_parameters,\n",
    "                        modes=modes,\n",
    "                        n_pcas=n_pcas,\n",
    "                        parameters_filenames=parameters_filenames,\n",
    "                        features_filenames=features_filenames,\n",
    "                        verbose=True, # useful to follow the various steps\n",
    "                        )"
   ]
  },
  {
   "cell_type": "code",
   "execution_count": 73,
   "id": "46d3d09c-05e0-4ed9-8d6f-0f98c7cac150",
   "metadata": {},
   "outputs": [
    {
     "name": "stdout",
     "output_type": "stream",
     "text": [
      "starting PCA compression\n"
     ]
    },
    {
     "name": "stderr",
     "output_type": "stream",
     "text": [
      "100%|██████████████████████████████████████████████████████████████████████████| 3/3 [00:02<00:00,  1.31it/s]\n"
     ]
    },
    {
     "name": "stdout",
     "output_type": "stream",
     "text": [
      "PCA compression done\n",
      "parameters and PCA coefficients of training set stored in memory\n"
     ]
    }
   ],
   "source": [
    "cp_pca.transform_and_stack_training_data()"
   ]
  },
  {
   "cell_type": "code",
   "execution_count": 74,
   "id": "befd25cf-3000-43fb-9afd-552cf3b99519",
   "metadata": {},
   "outputs": [
    {
     "name": "stderr",
     "output_type": "stream",
     "text": [
      "2023-10-11 19:26:45.351173: I tensorflow/compiler/xla/stream_executor/cuda/cuda_gpu_executor.cc:981] successful NUMA node read from SysFS had negative value (-1), but there must be at least one NUMA node, so returning NUMA node zero\n",
      "2023-10-11 19:26:45.353570: I tensorflow/compiler/xla/stream_executor/cuda/cuda_gpu_executor.cc:981] successful NUMA node read from SysFS had negative value (-1), but there must be at least one NUMA node, so returning NUMA node zero\n",
      "2023-10-11 19:26:45.355537: I tensorflow/compiler/xla/stream_executor/cuda/cuda_gpu_executor.cc:981] successful NUMA node read from SysFS had negative value (-1), but there must be at least one NUMA node, so returning NUMA node zero\n",
      "2023-10-11 19:26:45.358276: I tensorflow/compiler/xla/stream_executor/cuda/cuda_gpu_executor.cc:981] successful NUMA node read from SysFS had negative value (-1), but there must be at least one NUMA node, so returning NUMA node zero\n",
      "2023-10-11 19:26:45.360290: I tensorflow/compiler/xla/stream_executor/cuda/cuda_gpu_executor.cc:981] successful NUMA node read from SysFS had negative value (-1), but there must be at least one NUMA node, so returning NUMA node zero\n",
      "2023-10-11 19:26:45.362219: I tensorflow/compiler/xla/stream_executo"
     ]
    },
    {
     "name": "stdout",
     "output_type": "stream",
     "text": [
      "\n",
      "Initialized cosmopower_PCAplusNN model, \n",
      "mapping 6 input parameters to 16 PCA components \n",
      "and then inverting the PCA compression to obtain 100 modes \n",
      "The model uses 4 hidden layers, \n",
      "with [512, 512, 512, 512] nodes, respectively. \n",
      "\n"
     ]
    },
    {
     "name": "stderr",
     "output_type": "stream",
     "text": [
      "r/cuda/cuda_gpu_executor.cc:981] successful NUMA node read from SysFS had negative value (-1), but there must be at least one NUMA node, so returning NUMA node zero\n",
      "2023-10-11 19:26:45.363917: I tensorflow/compiler/xla/stream_executor/cuda/cuda_gpu_executor.cc:981] successful NUMA node read from SysFS had negative value (-1), but there must be at least one NUMA node, so returning NUMA node zero\n",
      "2023-10-11 19:26:45.365373: I tensorflow/compiler/xla/stream_executor/cuda/cuda_gpu_executor.cc:981] successful NUMA node read from SysFS had negative value (-1), but there must be at least one NUMA node, so returning NUMA node zero\n",
      "2023-10-11 19:26:45.366795: I tensorflow/core/common_runtime/gpu/gpu_device.cc:1613] Created device /job:localhost/replica:0/task:0/device:GPU:0 with 38397 MB memory:  -> device: 0, name: NVIDIA A100-PCIE-40GB, pci bus id: 0000:00:05.0, compute capability: 8.0\n"
     ]
    }
   ],
   "source": [
    "from cosmopower import cosmopower_PCAplusNN\n",
    "\n",
    "cp_pca_nn = cosmopower_PCAplusNN(cp_pca=cp_pca,\n",
    "                                 n_hidden=[512,512,512,512], # 4 hidden layers, each with 512 nodes\n",
    "                                 verbose=True, # useful to understand the different steps in initialisation and training\n",
    "                                 )"
   ]
  },
  {
   "cell_type": "code",
   "execution_count": 75,
   "id": "8133f0ce-1e78-4870-a694-014fc8061b0b",
   "metadata": {},
   "outputs": [
    {
     "name": "stdout",
     "output_type": "stream",
     "text": [
      "Starting cosmopower_PCAplusNN training, \n",
      "using 10 per cent of training samples for validation. \n",
      "Performing 5 learning steps, with \n",
      "[0.01, 0.001, 0.0001, 1e-05, 1e-06] learning rates \n",
      "[1024, 1024, 1024, 1024, 1024] batch sizes \n",
      "[1, 1, 1, 1, 1] gradient accumulation steps \n",
      "[100, 100, 100, 100, 100] patience values \n",
      "[1000, 1000, 1000, 1000, 1000] max epochs \n",
      "\n",
      "learning rate = 0.01, batch size = 1024\n"
     ]
    },
    {
     "name": "stderr",
     "output_type": "stream",
     "text": [
      "  0%|                                                                               | 0/1000 [00:00<?, ?it/s]2023-10-11 19:27:29.987734: I tensorflow/compiler/xla/stream_executor/cuda/cuda_blas.cc:630] TensorFloat-32 will be used for the matrix multiplication. This will only be logged once.\n",
      "2023-10-11 19:27:30.083098: I tensorflow/compiler/xla/service/service.cc:173] XLA service 0x1e71b500 initialized for platform CUDA (this does not guarantee that XLA will be used). Devices:\n",
      "2023-10-11 19:27:30.083150: I tensorflow/compiler/xla/service/service.cc:181]   StreamExecutor device (0): NVIDIA A100-PCIE-40GB, Compute Capability 8.0\n",
      "2023-10-11 19:27:30.088553: I tensorflow/compiler/mlir/tensorflow/utils/dump_mlir_util.cc:268] disabling MLIR crash reproducer, set env var `MLIR_CRASH_REPRODUCER_DIRECTORY` to enable.\n",
      "2023-10-11 19:27:30.179723: W tensorflow/compiler/xla/stream_executor/gpu/asm_compiler.cc:115] *** WARNING *** You are using ptxas 10.1.243, which is older than 11.1. ptxas before 11.1 is known to miscompile XLA code, leading to incorrect results or invalid-address errors.\n",
      "\n",
      "You may not need to update to CUDA 11.1; cherry-picking the ptxas binary is often sufficient.\n",
      "2023-10-11 19:27:30.184402: W tensorflow/compiler/xla/stream_executor/gpu/asm_compiler.cc:234] Falling back to the CUDA driver for PTX compilation; ptxas does not support CC 8.0\n",
      "2023-10-11 19:27:30.184424: W tensorflow/compiler/xla/stream_executor/gpu/asm_compiler.cc:237] Used ptxas at ptxas\n",
      "2023-10-11 19:27:30.185301: I tensorflow/compiler/jit/xla_compilation_cache.cc:477] Compiled cluster using XLA!  This line is logged at most once for the lifetime of the process.\n"
     ]
    },
    {
     "name": "stdout",
     "output_type": "stream",
     "text": [
      "WARNING:tensorflow:5 out of the last 5 calls to <function _BaseOptimizer._update_step_xla at 0x7fd4f9a199d0> triggered tf.function retracing. Tracing is expensive and the excessive number of tracings could be due to (1) creating @tf.function repeatedly in a loop, (2) passing tensors with different shapes, (3) passing Python objects instead of tensors. For (1), please define your @tf.function outside of the loop. For (2), @tf.function has reduce_retracing=True option that can avoid unnecessary retracing. For (3), please refer to https://www.tensorflow.org/guide/function#controlling_retracing and https://www.tensorflow.org/api_docs/python/tf/function for  more details.\n",
      "WARNING:tensorflow:6 out of the last 6 calls to <function _BaseOptimizer._update_step_xla at 0x7fd4f9a199d0> triggered tf.function retracing. Tracing is expensive and the excessive number of tracings could be due to (1) creating @tf.function repeatedly in a loop, (2) passing tensors with different shapes, (3) passing Python objects instead of tensors. For (1), please define your @tf.function outside of the loop. For (2), @tf.function has reduce_retracing=True option that can avoid unnecessary retracing. For (3), please refer to https://www.tensorflow.org/guide/function#controlling_retracing and https://www.tensorflow.org/api_docs/python/tf/function for  more details.\n"
     ]
    },
    {
     "name": "stderr",
     "output_type": "stream",
     "text": [
      "2023-10-11 19:27:30.741762: W tensorflow/compiler/xla/stream_executor/gpu/asm_compiler.cc:115] *** WARNING *** You are using ptxas 10.1.243, which is older than 11.1. ptxas before 11.1 is known to miscompile XLA code, leading to incorrect results or invalid-address errors.\n",
      "\n",
      "You may not need to update to CUDA 11.1; cherry-picking the ptxas binary is often sufficient.\n",
      "2023-10-11 19:27:31.202379: W tensorflow/compiler/xla/stream_executor/gpu/asm_compiler.cc:115] *** WARNING *** You are using ptxas 10.1.243, which is older than 11.1. ptxas before 11.1 is known to miscompile XLA code, leading to incorrect results or invalid-address errors.\n",
      "\n",
      "You may not need to update to CUDA 11.1; cherry-picking the ptxas binary is often sufficient.\n",
      "  1%|▋                                                          | 11/1000 [00:46<1:09:53,  4.24s/it, loss=14]\n"
     ]
    },
    {
     "ename": "KeyboardInterrupt",
     "evalue": "",
     "output_type": "error",
     "traceback": [
      "\u001b[0;31m---------------------------------------------------------------------------\u001b[0m",
      "\u001b[0;31mKeyboardInterrupt\u001b[0m                         Traceback (most recent call last)",
      "Cell \u001b[0;32mIn[75], line 3\u001b[0m\n\u001b[1;32m      1\u001b[0m \u001b[38;5;28;01mwith\u001b[39;00m tf\u001b[38;5;241m.\u001b[39mdevice(device):\n\u001b[1;32m      2\u001b[0m     \u001b[38;5;66;03m# train\u001b[39;00m\n\u001b[0;32m----> 3\u001b[0m     \u001b[43mcp_pca_nn\u001b[49m\u001b[38;5;241;43m.\u001b[39;49m\u001b[43mtrain\u001b[49m\u001b[43m(\u001b[49m\u001b[43mfilename_saved_model\u001b[49m\u001b[38;5;241;43m=\u001b[39;49m\u001b[38;5;124;43m'\u001b[39;49m\u001b[38;5;124;43m../data/trained_models/P_cp_PCAplusNN_example\u001b[39;49m\u001b[38;5;124;43m'\u001b[39;49m\u001b[43m,\u001b[49m\n\u001b[1;32m      4\u001b[0m \u001b[43m                    \u001b[49m\u001b[38;5;66;43;03m# cooling schedule\u001b[39;49;00m\n\u001b[1;32m      5\u001b[0m \u001b[43m                    \u001b[49m\u001b[43mvalidation_split\u001b[49m\u001b[38;5;241;43m=\u001b[39;49m\u001b[38;5;241;43m0.1\u001b[39;49m\u001b[43m,\u001b[49m\n\u001b[1;32m      6\u001b[0m \u001b[43m                    \u001b[49m\u001b[43mlearning_rates\u001b[49m\u001b[38;5;241;43m=\u001b[39;49m\u001b[43m[\u001b[49m\u001b[38;5;241;43m1e-2\u001b[39;49m\u001b[43m,\u001b[49m\u001b[43m \u001b[49m\u001b[38;5;241;43m1e-3\u001b[39;49m\u001b[43m,\u001b[49m\u001b[43m \u001b[49m\u001b[38;5;241;43m1e-4\u001b[39;49m\u001b[43m,\u001b[49m\u001b[43m \u001b[49m\u001b[38;5;241;43m1e-5\u001b[39;49m\u001b[43m,\u001b[49m\u001b[43m \u001b[49m\u001b[38;5;241;43m1e-6\u001b[39;49m\u001b[43m]\u001b[49m\u001b[43m,\u001b[49m\n\u001b[1;32m      7\u001b[0m \u001b[43m                    \u001b[49m\u001b[43mbatch_sizes\u001b[49m\u001b[38;5;241;43m=\u001b[39;49m\u001b[43m[\u001b[49m\u001b[38;5;241;43m1024\u001b[39;49m\u001b[43m,\u001b[49m\u001b[43m \u001b[49m\u001b[38;5;241;43m1024\u001b[39;49m\u001b[43m,\u001b[49m\u001b[43m \u001b[49m\u001b[38;5;241;43m1024\u001b[39;49m\u001b[43m,\u001b[49m\u001b[43m \u001b[49m\u001b[38;5;241;43m1024\u001b[39;49m\u001b[43m,\u001b[49m\u001b[43m \u001b[49m\u001b[38;5;241;43m1024\u001b[39;49m\u001b[43m]\u001b[49m\u001b[43m,\u001b[49m\n\u001b[1;32m      8\u001b[0m \u001b[43m                    \u001b[49m\u001b[43mgradient_accumulation_steps\u001b[49m\u001b[43m \u001b[49m\u001b[38;5;241;43m=\u001b[39;49m\u001b[43m \u001b[49m\u001b[43m[\u001b[49m\u001b[38;5;241;43m1\u001b[39;49m\u001b[43m,\u001b[49m\u001b[43m \u001b[49m\u001b[38;5;241;43m1\u001b[39;49m\u001b[43m,\u001b[49m\u001b[43m \u001b[49m\u001b[38;5;241;43m1\u001b[39;49m\u001b[43m,\u001b[49m\u001b[43m \u001b[49m\u001b[38;5;241;43m1\u001b[39;49m\u001b[43m,\u001b[49m\u001b[43m \u001b[49m\u001b[38;5;241;43m1\u001b[39;49m\u001b[43m]\u001b[49m\u001b[43m,\u001b[49m\n\u001b[1;32m      9\u001b[0m \u001b[43m                    \u001b[49m\u001b[38;5;66;43;03m# early stopping set up\u001b[39;49;00m\n\u001b[1;32m     10\u001b[0m \u001b[43m                    \u001b[49m\u001b[43mpatience_values\u001b[49m\u001b[43m \u001b[49m\u001b[38;5;241;43m=\u001b[39;49m\u001b[43m \u001b[49m\u001b[43m[\u001b[49m\u001b[38;5;241;43m100\u001b[39;49m\u001b[43m,\u001b[49m\u001b[38;5;241;43m100\u001b[39;49m\u001b[43m,\u001b[49m\u001b[38;5;241;43m100\u001b[39;49m\u001b[43m,\u001b[49m\u001b[38;5;241;43m100\u001b[39;49m\u001b[43m,\u001b[49m\u001b[38;5;241;43m100\u001b[39;49m\u001b[43m]\u001b[49m\u001b[43m,\u001b[49m\n\u001b[1;32m     11\u001b[0m \u001b[43m                    \u001b[49m\u001b[43mmax_epochs\u001b[49m\u001b[43m \u001b[49m\u001b[38;5;241;43m=\u001b[39;49m\u001b[43m \u001b[49m\u001b[43m[\u001b[49m\u001b[38;5;241;43m1000\u001b[39;49m\u001b[43m,\u001b[49m\u001b[38;5;241;43m1000\u001b[39;49m\u001b[43m,\u001b[49m\u001b[38;5;241;43m1000\u001b[39;49m\u001b[43m,\u001b[49m\u001b[38;5;241;43m1000\u001b[39;49m\u001b[43m,\u001b[49m\u001b[38;5;241;43m1000\u001b[39;49m\u001b[43m]\u001b[49m\u001b[43m,\u001b[49m\n\u001b[1;32m     12\u001b[0m \u001b[43m                    \u001b[49m\u001b[43m)\u001b[49m\n",
      "File \u001b[0;32m~/anaconda3/envs/cp_env/lib/python3.9/site-packages/cosmopower/cosmopower_PCAplusNN.py:636\u001b[0m, in \u001b[0;36mcosmopower_PCAplusNN.train\u001b[0;34m(self, filename_saved_model, validation_split, learning_rates, batch_sizes, gradient_accumulation_steps, patience_values, max_epochs)\u001b[0m\n\u001b[1;32m    632\u001b[0m \u001b[38;5;28;01mfor\u001b[39;00m theta, pca \u001b[38;5;129;01min\u001b[39;00m training_data:\n\u001b[1;32m    633\u001b[0m \n\u001b[1;32m    634\u001b[0m     \u001b[38;5;66;03m# training step: check whether to accumulate gradients or not (only worth doing this for very large batch sizes)\u001b[39;00m\n\u001b[1;32m    635\u001b[0m     \u001b[38;5;28;01mif\u001b[39;00m gradient_accumulation_steps[i] \u001b[38;5;241m==\u001b[39m \u001b[38;5;241m1\u001b[39m:\n\u001b[0;32m--> 636\u001b[0m         loss \u001b[38;5;241m=\u001b[39m \u001b[38;5;28;43mself\u001b[39;49m\u001b[38;5;241;43m.\u001b[39;49m\u001b[43mtraining_step\u001b[49m\u001b[43m(\u001b[49m\u001b[43mtheta\u001b[49m\u001b[43m,\u001b[49m\u001b[43m \u001b[49m\u001b[43mpca\u001b[49m\u001b[43m)\u001b[49m\n\u001b[1;32m    637\u001b[0m     \u001b[38;5;28;01melse\u001b[39;00m:\n\u001b[1;32m    638\u001b[0m         loss \u001b[38;5;241m=\u001b[39m \u001b[38;5;28mself\u001b[39m\u001b[38;5;241m.\u001b[39mtraining_step_with_accumulated_gradients(theta, pca, accumulation_steps\u001b[38;5;241m=\u001b[39mgradient_accumulation_steps[i])\n",
      "File \u001b[0;32m~/anaconda3/envs/cp_env/lib/python3.9/site-packages/cosmopower/cosmopower_PCAplusNN.py:501\u001b[0m, in \u001b[0;36mcosmopower_PCAplusNN.training_step\u001b[0;34m(self, training_parameters, training_pca)\u001b[0m\n\u001b[1;32m    498\u001b[0m loss, gradients \u001b[38;5;241m=\u001b[39m \u001b[38;5;28mself\u001b[39m\u001b[38;5;241m.\u001b[39mcompute_loss_and_gradients(training_parameters, training_pca)\n\u001b[1;32m    500\u001b[0m \u001b[38;5;66;03m# apply gradients\u001b[39;00m\n\u001b[0;32m--> 501\u001b[0m \u001b[38;5;28;43mself\u001b[39;49m\u001b[38;5;241;43m.\u001b[39;49m\u001b[43moptimizer\u001b[49m\u001b[38;5;241;43m.\u001b[39;49m\u001b[43mapply_gradients\u001b[49m\u001b[43m(\u001b[49m\u001b[38;5;28;43mzip\u001b[39;49m\u001b[43m(\u001b[49m\u001b[43mgradients\u001b[49m\u001b[43m,\u001b[49m\u001b[43m \u001b[49m\u001b[38;5;28;43mself\u001b[39;49m\u001b[38;5;241;43m.\u001b[39;49m\u001b[43mtrainable_variables\u001b[49m\u001b[43m)\u001b[49m\u001b[43m)\u001b[49m\n\u001b[1;32m    503\u001b[0m \u001b[38;5;28;01mreturn\u001b[39;00m loss\n",
      "File \u001b[0;32m~/anaconda3/envs/cp_env/lib/python3.9/site-packages/keras/optimizers/optimizer_experimental/optimizer.py:1140\u001b[0m, in \u001b[0;36mOptimizer.apply_gradients\u001b[0;34m(self, grads_and_vars, name, skip_gradients_aggregation, **kwargs)\u001b[0m\n\u001b[1;32m   1138\u001b[0m \u001b[38;5;28;01mif\u001b[39;00m \u001b[38;5;129;01mnot\u001b[39;00m skip_gradients_aggregation \u001b[38;5;129;01mand\u001b[39;00m experimental_aggregate_gradients:\n\u001b[1;32m   1139\u001b[0m     grads_and_vars \u001b[38;5;241m=\u001b[39m \u001b[38;5;28mself\u001b[39m\u001b[38;5;241m.\u001b[39maggregate_gradients(grads_and_vars)\n\u001b[0;32m-> 1140\u001b[0m \u001b[38;5;28;01mreturn\u001b[39;00m \u001b[38;5;28;43msuper\u001b[39;49m\u001b[43m(\u001b[49m\u001b[43m)\u001b[49m\u001b[38;5;241;43m.\u001b[39;49m\u001b[43mapply_gradients\u001b[49m\u001b[43m(\u001b[49m\u001b[43mgrads_and_vars\u001b[49m\u001b[43m,\u001b[49m\u001b[43m \u001b[49m\u001b[43mname\u001b[49m\u001b[38;5;241;43m=\u001b[39;49m\u001b[43mname\u001b[49m\u001b[43m)\u001b[49m\n",
      "File \u001b[0;32m~/anaconda3/envs/cp_env/lib/python3.9/site-packages/keras/optimizers/optimizer_experimental/optimizer.py:634\u001b[0m, in \u001b[0;36m_BaseOptimizer.apply_gradients\u001b[0;34m(self, grads_and_vars, name)\u001b[0m\n\u001b[1;32m    632\u001b[0m \u001b[38;5;28mself\u001b[39m\u001b[38;5;241m.\u001b[39m_apply_weight_decay(trainable_variables)\n\u001b[1;32m    633\u001b[0m grads_and_vars \u001b[38;5;241m=\u001b[39m \u001b[38;5;28mlist\u001b[39m(\u001b[38;5;28mzip\u001b[39m(grads, trainable_variables))\n\u001b[0;32m--> 634\u001b[0m iteration \u001b[38;5;241m=\u001b[39m \u001b[38;5;28;43mself\u001b[39;49m\u001b[38;5;241;43m.\u001b[39;49m\u001b[43m_internal_apply_gradients\u001b[49m\u001b[43m(\u001b[49m\u001b[43mgrads_and_vars\u001b[49m\u001b[43m)\u001b[49m\n\u001b[1;32m    636\u001b[0m \u001b[38;5;66;03m# Apply variable constraints after applying gradients.\u001b[39;00m\n\u001b[1;32m    637\u001b[0m \u001b[38;5;28;01mfor\u001b[39;00m variable \u001b[38;5;129;01min\u001b[39;00m trainable_variables:\n",
      "File \u001b[0;32m~/anaconda3/envs/cp_env/lib/python3.9/site-packages/keras/optimizers/optimizer_experimental/optimizer.py:1166\u001b[0m, in \u001b[0;36mOptimizer._internal_apply_gradients\u001b[0;34m(self, grads_and_vars)\u001b[0m\n\u001b[1;32m   1165\u001b[0m \u001b[38;5;28;01mdef\u001b[39;00m \u001b[38;5;21m_internal_apply_gradients\u001b[39m(\u001b[38;5;28mself\u001b[39m, grads_and_vars):\n\u001b[0;32m-> 1166\u001b[0m     \u001b[38;5;28;01mreturn\u001b[39;00m \u001b[43mtf\u001b[49m\u001b[38;5;241;43m.\u001b[39;49m\u001b[43m__internal__\u001b[49m\u001b[38;5;241;43m.\u001b[39;49m\u001b[43mdistribute\u001b[49m\u001b[38;5;241;43m.\u001b[39;49m\u001b[43minterim\u001b[49m\u001b[38;5;241;43m.\u001b[39;49m\u001b[43mmaybe_merge_call\u001b[49m\u001b[43m(\u001b[49m\n\u001b[1;32m   1167\u001b[0m \u001b[43m        \u001b[49m\u001b[38;5;28;43mself\u001b[39;49m\u001b[38;5;241;43m.\u001b[39;49m\u001b[43m_distributed_apply_gradients_fn\u001b[49m\u001b[43m,\u001b[49m\n\u001b[1;32m   1168\u001b[0m \u001b[43m        \u001b[49m\u001b[38;5;28;43mself\u001b[39;49m\u001b[38;5;241;43m.\u001b[39;49m\u001b[43m_distribution_strategy\u001b[49m\u001b[43m,\u001b[49m\n\u001b[1;32m   1169\u001b[0m \u001b[43m        \u001b[49m\u001b[43mgrads_and_vars\u001b[49m\u001b[43m,\u001b[49m\n\u001b[1;32m   1170\u001b[0m \u001b[43m    \u001b[49m\u001b[43m)\u001b[49m\n",
      "File \u001b[0;32m~/anaconda3/envs/cp_env/lib/python3.9/site-packages/tensorflow/python/distribute/merge_call_interim.py:51\u001b[0m, in \u001b[0;36mmaybe_merge_call\u001b[0;34m(fn, strategy, *args, **kwargs)\u001b[0m\n\u001b[1;32m     31\u001b[0m \u001b[38;5;250m\u001b[39m\u001b[38;5;124;03m\"\"\"Maybe invoke `fn` via `merge_call` which may or may not be fulfilled.\u001b[39;00m\n\u001b[1;32m     32\u001b[0m \n\u001b[1;32m     33\u001b[0m \u001b[38;5;124;03mThe caller of this utility function requests to invoke `fn` via `merge_call`\u001b[39;00m\n\u001b[0;32m   (...)\u001b[0m\n\u001b[1;32m     48\u001b[0m \u001b[38;5;124;03m  The return value of the `fn` call.\u001b[39;00m\n\u001b[1;32m     49\u001b[0m \u001b[38;5;124;03m\"\"\"\u001b[39;00m\n\u001b[1;32m     50\u001b[0m \u001b[38;5;28;01mif\u001b[39;00m strategy_supports_no_merge_call():\n\u001b[0;32m---> 51\u001b[0m   \u001b[38;5;28;01mreturn\u001b[39;00m \u001b[43mfn\u001b[49m\u001b[43m(\u001b[49m\u001b[43mstrategy\u001b[49m\u001b[43m,\u001b[49m\u001b[43m \u001b[49m\u001b[38;5;241;43m*\u001b[39;49m\u001b[43margs\u001b[49m\u001b[43m,\u001b[49m\u001b[43m \u001b[49m\u001b[38;5;241;43m*\u001b[39;49m\u001b[38;5;241;43m*\u001b[39;49m\u001b[43mkwargs\u001b[49m\u001b[43m)\u001b[49m\n\u001b[1;32m     52\u001b[0m \u001b[38;5;28;01melse\u001b[39;00m:\n\u001b[1;32m     53\u001b[0m   \u001b[38;5;28;01mreturn\u001b[39;00m distribution_strategy_context\u001b[38;5;241m.\u001b[39mget_replica_context()\u001b[38;5;241m.\u001b[39mmerge_call(\n\u001b[1;32m     54\u001b[0m       fn, args\u001b[38;5;241m=\u001b[39margs, kwargs\u001b[38;5;241m=\u001b[39mkwargs)\n",
      "File \u001b[0;32m~/anaconda3/envs/cp_env/lib/python3.9/site-packages/keras/optimizers/optimizer_experimental/optimizer.py:1216\u001b[0m, in \u001b[0;36mOptimizer._distributed_apply_gradients_fn\u001b[0;34m(self, distribution, grads_and_vars, **kwargs)\u001b[0m\n\u001b[1;32m   1213\u001b[0m         \u001b[38;5;28;01mreturn\u001b[39;00m \u001b[38;5;28mself\u001b[39m\u001b[38;5;241m.\u001b[39m_update_step(grad, var)\n\u001b[1;32m   1215\u001b[0m \u001b[38;5;28;01mfor\u001b[39;00m grad, var \u001b[38;5;129;01min\u001b[39;00m grads_and_vars:\n\u001b[0;32m-> 1216\u001b[0m     \u001b[43mdistribution\u001b[49m\u001b[38;5;241;43m.\u001b[39;49m\u001b[43mextended\u001b[49m\u001b[38;5;241;43m.\u001b[39;49m\u001b[43mupdate\u001b[49m\u001b[43m(\u001b[49m\n\u001b[1;32m   1217\u001b[0m \u001b[43m        \u001b[49m\u001b[43mvar\u001b[49m\u001b[43m,\u001b[49m\u001b[43m \u001b[49m\u001b[43mapply_grad_to_update_var\u001b[49m\u001b[43m,\u001b[49m\u001b[43m \u001b[49m\u001b[43margs\u001b[49m\u001b[38;5;241;43m=\u001b[39;49m\u001b[43m(\u001b[49m\u001b[43mgrad\u001b[49m\u001b[43m,\u001b[49m\u001b[43m)\u001b[49m\u001b[43m,\u001b[49m\u001b[43m \u001b[49m\u001b[43mgroup\u001b[49m\u001b[38;5;241;43m=\u001b[39;49m\u001b[38;5;28;43;01mFalse\u001b[39;49;00m\n\u001b[1;32m   1218\u001b[0m \u001b[43m    \u001b[49m\u001b[43m)\u001b[49m\n\u001b[1;32m   1220\u001b[0m \u001b[38;5;28;01mif\u001b[39;00m \u001b[38;5;28mself\u001b[39m\u001b[38;5;241m.\u001b[39muse_ema:\n\u001b[1;32m   1221\u001b[0m     _, var_list \u001b[38;5;241m=\u001b[39m \u001b[38;5;28mzip\u001b[39m(\u001b[38;5;241m*\u001b[39mgrads_and_vars)\n",
      "File \u001b[0;32m~/anaconda3/envs/cp_env/lib/python3.9/site-packages/tensorflow/python/distribute/distribute_lib.py:2637\u001b[0m, in \u001b[0;36mStrategyExtendedV2.update\u001b[0;34m(self, var, fn, args, kwargs, group)\u001b[0m\n\u001b[1;32m   2634\u001b[0m   fn \u001b[38;5;241m=\u001b[39m autograph\u001b[38;5;241m.\u001b[39mtf_convert(\n\u001b[1;32m   2635\u001b[0m       fn, autograph_ctx\u001b[38;5;241m.\u001b[39mcontrol_status_ctx(), convert_by_default\u001b[38;5;241m=\u001b[39m\u001b[38;5;28;01mFalse\u001b[39;00m)\n\u001b[1;32m   2636\u001b[0m   \u001b[38;5;28;01mwith\u001b[39;00m \u001b[38;5;28mself\u001b[39m\u001b[38;5;241m.\u001b[39m_container_strategy()\u001b[38;5;241m.\u001b[39mscope():\n\u001b[0;32m-> 2637\u001b[0m     \u001b[38;5;28;01mreturn\u001b[39;00m \u001b[38;5;28;43mself\u001b[39;49m\u001b[38;5;241;43m.\u001b[39;49m\u001b[43m_update\u001b[49m\u001b[43m(\u001b[49m\u001b[43mvar\u001b[49m\u001b[43m,\u001b[49m\u001b[43m \u001b[49m\u001b[43mfn\u001b[49m\u001b[43m,\u001b[49m\u001b[43m \u001b[49m\u001b[43margs\u001b[49m\u001b[43m,\u001b[49m\u001b[43m \u001b[49m\u001b[43mkwargs\u001b[49m\u001b[43m,\u001b[49m\u001b[43m \u001b[49m\u001b[43mgroup\u001b[49m\u001b[43m)\u001b[49m\n\u001b[1;32m   2638\u001b[0m \u001b[38;5;28;01melse\u001b[39;00m:\n\u001b[1;32m   2639\u001b[0m   \u001b[38;5;28;01mreturn\u001b[39;00m \u001b[38;5;28mself\u001b[39m\u001b[38;5;241m.\u001b[39m_replica_ctx_update(\n\u001b[1;32m   2640\u001b[0m       var, fn, args\u001b[38;5;241m=\u001b[39margs, kwargs\u001b[38;5;241m=\u001b[39mkwargs, group\u001b[38;5;241m=\u001b[39mgroup)\n",
      "File \u001b[0;32m~/anaconda3/envs/cp_env/lib/python3.9/site-packages/tensorflow/python/distribute/distribute_lib.py:3710\u001b[0m, in \u001b[0;36m_DefaultDistributionExtended._update\u001b[0;34m(self, var, fn, args, kwargs, group)\u001b[0m\n\u001b[1;32m   3707\u001b[0m \u001b[38;5;28;01mdef\u001b[39;00m \u001b[38;5;21m_update\u001b[39m(\u001b[38;5;28mself\u001b[39m, var, fn, args, kwargs, group):\n\u001b[1;32m   3708\u001b[0m   \u001b[38;5;66;03m# The implementations of _update() and _update_non_slot() are identical\u001b[39;00m\n\u001b[1;32m   3709\u001b[0m   \u001b[38;5;66;03m# except _update() passes `var` as the first argument to `fn()`.\u001b[39;00m\n\u001b[0;32m-> 3710\u001b[0m   \u001b[38;5;28;01mreturn\u001b[39;00m \u001b[38;5;28;43mself\u001b[39;49m\u001b[38;5;241;43m.\u001b[39;49m\u001b[43m_update_non_slot\u001b[49m\u001b[43m(\u001b[49m\u001b[43mvar\u001b[49m\u001b[43m,\u001b[49m\u001b[43m \u001b[49m\u001b[43mfn\u001b[49m\u001b[43m,\u001b[49m\u001b[43m \u001b[49m\u001b[43m(\u001b[49m\u001b[43mvar\u001b[49m\u001b[43m,\u001b[49m\u001b[43m)\u001b[49m\u001b[43m \u001b[49m\u001b[38;5;241;43m+\u001b[39;49m\u001b[43m \u001b[49m\u001b[38;5;28;43mtuple\u001b[39;49m\u001b[43m(\u001b[49m\u001b[43margs\u001b[49m\u001b[43m)\u001b[49m\u001b[43m,\u001b[49m\u001b[43m \u001b[49m\u001b[43mkwargs\u001b[49m\u001b[43m,\u001b[49m\u001b[43m \u001b[49m\u001b[43mgroup\u001b[49m\u001b[43m)\u001b[49m\n",
      "File \u001b[0;32m~/anaconda3/envs/cp_env/lib/python3.9/site-packages/tensorflow/python/distribute/distribute_lib.py:3716\u001b[0m, in \u001b[0;36m_DefaultDistributionExtended._update_non_slot\u001b[0;34m(self, colocate_with, fn, args, kwargs, should_group)\u001b[0m\n\u001b[1;32m   3712\u001b[0m \u001b[38;5;28;01mdef\u001b[39;00m \u001b[38;5;21m_update_non_slot\u001b[39m(\u001b[38;5;28mself\u001b[39m, colocate_with, fn, args, kwargs, should_group):\n\u001b[1;32m   3713\u001b[0m   \u001b[38;5;66;03m# TODO(josh11b): Figure out what we should be passing to UpdateContext()\u001b[39;00m\n\u001b[1;32m   3714\u001b[0m   \u001b[38;5;66;03m# once that value is used for something.\u001b[39;00m\n\u001b[1;32m   3715\u001b[0m   \u001b[38;5;28;01mwith\u001b[39;00m UpdateContext(colocate_with):\n\u001b[0;32m-> 3716\u001b[0m     result \u001b[38;5;241m=\u001b[39m \u001b[43mfn\u001b[49m\u001b[43m(\u001b[49m\u001b[38;5;241;43m*\u001b[39;49m\u001b[43margs\u001b[49m\u001b[43m,\u001b[49m\u001b[43m \u001b[49m\u001b[38;5;241;43m*\u001b[39;49m\u001b[38;5;241;43m*\u001b[39;49m\u001b[43mkwargs\u001b[49m\u001b[43m)\u001b[49m\n\u001b[1;32m   3717\u001b[0m     \u001b[38;5;28;01mif\u001b[39;00m should_group:\n\u001b[1;32m   3718\u001b[0m       \u001b[38;5;28;01mreturn\u001b[39;00m result\n",
      "File \u001b[0;32m~/anaconda3/envs/cp_env/lib/python3.9/site-packages/tensorflow/python/autograph/impl/api.py:595\u001b[0m, in \u001b[0;36mcall_with_unspecified_conversion_status.<locals>.wrapper\u001b[0;34m(*args, **kwargs)\u001b[0m\n\u001b[1;32m    593\u001b[0m \u001b[38;5;28;01mdef\u001b[39;00m \u001b[38;5;21mwrapper\u001b[39m(\u001b[38;5;241m*\u001b[39margs, \u001b[38;5;241m*\u001b[39m\u001b[38;5;241m*\u001b[39mkwargs):\n\u001b[1;32m    594\u001b[0m   \u001b[38;5;28;01mwith\u001b[39;00m ag_ctx\u001b[38;5;241m.\u001b[39mControlStatusCtx(status\u001b[38;5;241m=\u001b[39mag_ctx\u001b[38;5;241m.\u001b[39mStatus\u001b[38;5;241m.\u001b[39mUNSPECIFIED):\n\u001b[0;32m--> 595\u001b[0m     \u001b[38;5;28;01mreturn\u001b[39;00m \u001b[43mfunc\u001b[49m\u001b[43m(\u001b[49m\u001b[38;5;241;43m*\u001b[39;49m\u001b[43margs\u001b[49m\u001b[43m,\u001b[49m\u001b[43m \u001b[49m\u001b[38;5;241;43m*\u001b[39;49m\u001b[38;5;241;43m*\u001b[39;49m\u001b[43mkwargs\u001b[49m\u001b[43m)\u001b[49m\n",
      "File \u001b[0;32m~/anaconda3/envs/cp_env/lib/python3.9/site-packages/keras/optimizers/optimizer_experimental/optimizer.py:1211\u001b[0m, in \u001b[0;36mOptimizer._distributed_apply_gradients_fn.<locals>.apply_grad_to_update_var\u001b[0;34m(var, grad)\u001b[0m\n\u001b[1;32m   1209\u001b[0m \u001b[38;5;28;01mdef\u001b[39;00m \u001b[38;5;21mapply_grad_to_update_var\u001b[39m(var, grad):\n\u001b[1;32m   1210\u001b[0m     \u001b[38;5;28;01mif\u001b[39;00m \u001b[38;5;28mself\u001b[39m\u001b[38;5;241m.\u001b[39mjit_compile:\n\u001b[0;32m-> 1211\u001b[0m         \u001b[38;5;28;01mreturn\u001b[39;00m \u001b[38;5;28;43mself\u001b[39;49m\u001b[38;5;241;43m.\u001b[39;49m\u001b[43m_update_step_xla\u001b[49m\u001b[43m(\u001b[49m\u001b[43mgrad\u001b[49m\u001b[43m,\u001b[49m\u001b[43m \u001b[49m\u001b[43mvar\u001b[49m\u001b[43m,\u001b[49m\u001b[43m \u001b[49m\u001b[38;5;28;43mid\u001b[39;49m\u001b[43m(\u001b[49m\u001b[38;5;28;43mself\u001b[39;49m\u001b[38;5;241;43m.\u001b[39;49m\u001b[43m_var_key\u001b[49m\u001b[43m(\u001b[49m\u001b[43mvar\u001b[49m\u001b[43m)\u001b[49m\u001b[43m)\u001b[49m\u001b[43m)\u001b[49m\n\u001b[1;32m   1212\u001b[0m     \u001b[38;5;28;01melse\u001b[39;00m:\n\u001b[1;32m   1213\u001b[0m         \u001b[38;5;28;01mreturn\u001b[39;00m \u001b[38;5;28mself\u001b[39m\u001b[38;5;241m.\u001b[39m_update_step(grad, var)\n",
      "File \u001b[0;32m~/anaconda3/envs/cp_env/lib/python3.9/site-packages/tensorflow/python/util/traceback_utils.py:150\u001b[0m, in \u001b[0;36mfilter_traceback.<locals>.error_handler\u001b[0;34m(*args, **kwargs)\u001b[0m\n\u001b[1;32m    148\u001b[0m filtered_tb \u001b[38;5;241m=\u001b[39m \u001b[38;5;28;01mNone\u001b[39;00m\n\u001b[1;32m    149\u001b[0m \u001b[38;5;28;01mtry\u001b[39;00m:\n\u001b[0;32m--> 150\u001b[0m   \u001b[38;5;28;01mreturn\u001b[39;00m \u001b[43mfn\u001b[49m\u001b[43m(\u001b[49m\u001b[38;5;241;43m*\u001b[39;49m\u001b[43margs\u001b[49m\u001b[43m,\u001b[49m\u001b[43m \u001b[49m\u001b[38;5;241;43m*\u001b[39;49m\u001b[38;5;241;43m*\u001b[39;49m\u001b[43mkwargs\u001b[49m\u001b[43m)\u001b[49m\n\u001b[1;32m    151\u001b[0m \u001b[38;5;28;01mexcept\u001b[39;00m \u001b[38;5;167;01mException\u001b[39;00m \u001b[38;5;28;01mas\u001b[39;00m e:\n\u001b[1;32m    152\u001b[0m   filtered_tb \u001b[38;5;241m=\u001b[39m _process_traceback_frames(e\u001b[38;5;241m.\u001b[39m__traceback__)\n",
      "File \u001b[0;32m~/anaconda3/envs/cp_env/lib/python3.9/site-packages/tensorflow/python/eager/polymorphic_function/polymorphic_function.py:880\u001b[0m, in \u001b[0;36mFunction.__call__\u001b[0;34m(self, *args, **kwds)\u001b[0m\n\u001b[1;32m    877\u001b[0m compiler \u001b[38;5;241m=\u001b[39m \u001b[38;5;124m\"\u001b[39m\u001b[38;5;124mxla\u001b[39m\u001b[38;5;124m\"\u001b[39m \u001b[38;5;28;01mif\u001b[39;00m \u001b[38;5;28mself\u001b[39m\u001b[38;5;241m.\u001b[39m_jit_compile \u001b[38;5;28;01melse\u001b[39;00m \u001b[38;5;124m\"\u001b[39m\u001b[38;5;124mnonXla\u001b[39m\u001b[38;5;124m\"\u001b[39m\n\u001b[1;32m    879\u001b[0m \u001b[38;5;28;01mwith\u001b[39;00m OptionalXlaContext(\u001b[38;5;28mself\u001b[39m\u001b[38;5;241m.\u001b[39m_jit_compile):\n\u001b[0;32m--> 880\u001b[0m   result \u001b[38;5;241m=\u001b[39m \u001b[38;5;28;43mself\u001b[39;49m\u001b[38;5;241;43m.\u001b[39;49m\u001b[43m_call\u001b[49m\u001b[43m(\u001b[49m\u001b[38;5;241;43m*\u001b[39;49m\u001b[43margs\u001b[49m\u001b[43m,\u001b[49m\u001b[43m \u001b[49m\u001b[38;5;241;43m*\u001b[39;49m\u001b[38;5;241;43m*\u001b[39;49m\u001b[43mkwds\u001b[49m\u001b[43m)\u001b[49m\n\u001b[1;32m    882\u001b[0m new_tracing_count \u001b[38;5;241m=\u001b[39m \u001b[38;5;28mself\u001b[39m\u001b[38;5;241m.\u001b[39mexperimental_get_tracing_count()\n\u001b[1;32m    883\u001b[0m without_tracing \u001b[38;5;241m=\u001b[39m (tracing_count \u001b[38;5;241m==\u001b[39m new_tracing_count)\n",
      "File \u001b[0;32m~/anaconda3/envs/cp_env/lib/python3.9/site-packages/tensorflow/python/eager/polymorphic_function/polymorphic_function.py:919\u001b[0m, in \u001b[0;36mFunction._call\u001b[0;34m(self, *args, **kwds)\u001b[0m\n\u001b[1;32m    916\u001b[0m \u001b[38;5;28mself\u001b[39m\u001b[38;5;241m.\u001b[39m_lock\u001b[38;5;241m.\u001b[39mrelease()\n\u001b[1;32m    917\u001b[0m \u001b[38;5;66;03m# In this case we have not created variables on the first call. So we can\u001b[39;00m\n\u001b[1;32m    918\u001b[0m \u001b[38;5;66;03m# run the first trace but we should fail if variables are created.\u001b[39;00m\n\u001b[0;32m--> 919\u001b[0m results \u001b[38;5;241m=\u001b[39m \u001b[38;5;28;43mself\u001b[39;49m\u001b[38;5;241;43m.\u001b[39;49m\u001b[43m_variable_creation_fn\u001b[49m\u001b[43m(\u001b[49m\u001b[38;5;241;43m*\u001b[39;49m\u001b[43margs\u001b[49m\u001b[43m,\u001b[49m\u001b[43m \u001b[49m\u001b[38;5;241;43m*\u001b[39;49m\u001b[38;5;241;43m*\u001b[39;49m\u001b[43mkwds\u001b[49m\u001b[43m)\u001b[49m\n\u001b[1;32m    920\u001b[0m \u001b[38;5;28;01mif\u001b[39;00m \u001b[38;5;28mself\u001b[39m\u001b[38;5;241m.\u001b[39m_created_variables \u001b[38;5;129;01mand\u001b[39;00m \u001b[38;5;129;01mnot\u001b[39;00m ALLOW_DYNAMIC_VARIABLE_CREATION:\n\u001b[1;32m    921\u001b[0m   \u001b[38;5;28;01mraise\u001b[39;00m \u001b[38;5;167;01mValueError\u001b[39;00m(\u001b[38;5;124m\"\u001b[39m\u001b[38;5;124mCreating variables on a non-first call to a function\u001b[39m\u001b[38;5;124m\"\u001b[39m\n\u001b[1;32m    922\u001b[0m                    \u001b[38;5;124m\"\u001b[39m\u001b[38;5;124m decorated with tf.function.\u001b[39m\u001b[38;5;124m\"\u001b[39m)\n",
      "File \u001b[0;32m~/anaconda3/envs/cp_env/lib/python3.9/site-packages/tensorflow/python/eager/polymorphic_function/tracing_compiler.py:134\u001b[0m, in \u001b[0;36mTracingCompiler.__call__\u001b[0;34m(self, *args, **kwargs)\u001b[0m\n\u001b[1;32m    131\u001b[0m \u001b[38;5;28;01mwith\u001b[39;00m \u001b[38;5;28mself\u001b[39m\u001b[38;5;241m.\u001b[39m_lock:\n\u001b[1;32m    132\u001b[0m   (concrete_function,\n\u001b[1;32m    133\u001b[0m    filtered_flat_args) \u001b[38;5;241m=\u001b[39m \u001b[38;5;28mself\u001b[39m\u001b[38;5;241m.\u001b[39m_maybe_define_function(args, kwargs)\n\u001b[0;32m--> 134\u001b[0m \u001b[38;5;28;01mreturn\u001b[39;00m \u001b[43mconcrete_function\u001b[49m\u001b[38;5;241;43m.\u001b[39;49m\u001b[43m_call_flat\u001b[49m\u001b[43m(\u001b[49m\n\u001b[1;32m    135\u001b[0m \u001b[43m    \u001b[49m\u001b[43mfiltered_flat_args\u001b[49m\u001b[43m,\u001b[49m\u001b[43m \u001b[49m\u001b[43mcaptured_inputs\u001b[49m\u001b[38;5;241;43m=\u001b[39;49m\u001b[43mconcrete_function\u001b[49m\u001b[38;5;241;43m.\u001b[39;49m\u001b[43mcaptured_inputs\u001b[49m\u001b[43m)\u001b[49m\n",
      "File \u001b[0;32m~/anaconda3/envs/cp_env/lib/python3.9/site-packages/tensorflow/python/eager/polymorphic_function/monomorphic_function.py:1745\u001b[0m, in \u001b[0;36mConcreteFunction._call_flat\u001b[0;34m(self, args, captured_inputs, cancellation_manager)\u001b[0m\n\u001b[1;32m   1741\u001b[0m possible_gradient_type \u001b[38;5;241m=\u001b[39m gradients_util\u001b[38;5;241m.\u001b[39mPossibleTapeGradientTypes(args)\n\u001b[1;32m   1742\u001b[0m \u001b[38;5;28;01mif\u001b[39;00m (possible_gradient_type \u001b[38;5;241m==\u001b[39m gradients_util\u001b[38;5;241m.\u001b[39mPOSSIBLE_GRADIENT_TYPES_NONE\n\u001b[1;32m   1743\u001b[0m     \u001b[38;5;129;01mand\u001b[39;00m executing_eagerly):\n\u001b[1;32m   1744\u001b[0m   \u001b[38;5;66;03m# No tape is watching; skip to running the function.\u001b[39;00m\n\u001b[0;32m-> 1745\u001b[0m   \u001b[38;5;28;01mreturn\u001b[39;00m \u001b[38;5;28mself\u001b[39m\u001b[38;5;241m.\u001b[39m_build_call_outputs(\u001b[38;5;28;43mself\u001b[39;49m\u001b[38;5;241;43m.\u001b[39;49m\u001b[43m_inference_function\u001b[49m\u001b[38;5;241;43m.\u001b[39;49m\u001b[43mcall\u001b[49m\u001b[43m(\u001b[49m\n\u001b[1;32m   1746\u001b[0m \u001b[43m      \u001b[49m\u001b[43mctx\u001b[49m\u001b[43m,\u001b[49m\u001b[43m \u001b[49m\u001b[43margs\u001b[49m\u001b[43m,\u001b[49m\u001b[43m \u001b[49m\u001b[43mcancellation_manager\u001b[49m\u001b[38;5;241;43m=\u001b[39;49m\u001b[43mcancellation_manager\u001b[49m\u001b[43m)\u001b[49m)\n\u001b[1;32m   1747\u001b[0m forward_backward \u001b[38;5;241m=\u001b[39m \u001b[38;5;28mself\u001b[39m\u001b[38;5;241m.\u001b[39m_select_forward_and_backward_functions(\n\u001b[1;32m   1748\u001b[0m     args,\n\u001b[1;32m   1749\u001b[0m     possible_gradient_type,\n\u001b[1;32m   1750\u001b[0m     executing_eagerly)\n\u001b[1;32m   1751\u001b[0m forward_function, args_with_tangents \u001b[38;5;241m=\u001b[39m forward_backward\u001b[38;5;241m.\u001b[39mforward()\n",
      "File \u001b[0;32m~/anaconda3/envs/cp_env/lib/python3.9/site-packages/tensorflow/python/eager/polymorphic_function/monomorphic_function.py:378\u001b[0m, in \u001b[0;36m_EagerDefinedFunction.call\u001b[0;34m(self, ctx, args, cancellation_manager)\u001b[0m\n\u001b[1;32m    376\u001b[0m \u001b[38;5;28;01mwith\u001b[39;00m _InterpolateFunctionError(\u001b[38;5;28mself\u001b[39m):\n\u001b[1;32m    377\u001b[0m   \u001b[38;5;28;01mif\u001b[39;00m cancellation_manager \u001b[38;5;129;01mis\u001b[39;00m \u001b[38;5;28;01mNone\u001b[39;00m:\n\u001b[0;32m--> 378\u001b[0m     outputs \u001b[38;5;241m=\u001b[39m \u001b[43mexecute\u001b[49m\u001b[38;5;241;43m.\u001b[39;49m\u001b[43mexecute\u001b[49m\u001b[43m(\u001b[49m\n\u001b[1;32m    379\u001b[0m \u001b[43m        \u001b[49m\u001b[38;5;28;43mstr\u001b[39;49m\u001b[43m(\u001b[49m\u001b[38;5;28;43mself\u001b[39;49m\u001b[38;5;241;43m.\u001b[39;49m\u001b[43msignature\u001b[49m\u001b[38;5;241;43m.\u001b[39;49m\u001b[43mname\u001b[49m\u001b[43m)\u001b[49m\u001b[43m,\u001b[49m\n\u001b[1;32m    380\u001b[0m \u001b[43m        \u001b[49m\u001b[43mnum_outputs\u001b[49m\u001b[38;5;241;43m=\u001b[39;49m\u001b[38;5;28;43mself\u001b[39;49m\u001b[38;5;241;43m.\u001b[39;49m\u001b[43m_num_outputs\u001b[49m\u001b[43m,\u001b[49m\n\u001b[1;32m    381\u001b[0m \u001b[43m        \u001b[49m\u001b[43minputs\u001b[49m\u001b[38;5;241;43m=\u001b[39;49m\u001b[43margs\u001b[49m\u001b[43m,\u001b[49m\n\u001b[1;32m    382\u001b[0m \u001b[43m        \u001b[49m\u001b[43mattrs\u001b[49m\u001b[38;5;241;43m=\u001b[39;49m\u001b[43mattrs\u001b[49m\u001b[43m,\u001b[49m\n\u001b[1;32m    383\u001b[0m \u001b[43m        \u001b[49m\u001b[43mctx\u001b[49m\u001b[38;5;241;43m=\u001b[39;49m\u001b[43mctx\u001b[49m\u001b[43m)\u001b[49m\n\u001b[1;32m    384\u001b[0m   \u001b[38;5;28;01melse\u001b[39;00m:\n\u001b[1;32m    385\u001b[0m     outputs \u001b[38;5;241m=\u001b[39m execute\u001b[38;5;241m.\u001b[39mexecute_with_cancellation(\n\u001b[1;32m    386\u001b[0m         \u001b[38;5;28mstr\u001b[39m(\u001b[38;5;28mself\u001b[39m\u001b[38;5;241m.\u001b[39msignature\u001b[38;5;241m.\u001b[39mname),\n\u001b[1;32m    387\u001b[0m         num_outputs\u001b[38;5;241m=\u001b[39m\u001b[38;5;28mself\u001b[39m\u001b[38;5;241m.\u001b[39m_num_outputs,\n\u001b[0;32m   (...)\u001b[0m\n\u001b[1;32m    390\u001b[0m         ctx\u001b[38;5;241m=\u001b[39mctx,\n\u001b[1;32m    391\u001b[0m         cancellation_manager\u001b[38;5;241m=\u001b[39mcancellation_manager)\n",
      "File \u001b[0;32m~/anaconda3/envs/cp_env/lib/python3.9/site-packages/tensorflow/python/eager/execute.py:52\u001b[0m, in \u001b[0;36mquick_execute\u001b[0;34m(op_name, num_outputs, inputs, attrs, ctx, name)\u001b[0m\n\u001b[1;32m     50\u001b[0m \u001b[38;5;28;01mtry\u001b[39;00m:\n\u001b[1;32m     51\u001b[0m   ctx\u001b[38;5;241m.\u001b[39mensure_initialized()\n\u001b[0;32m---> 52\u001b[0m   tensors \u001b[38;5;241m=\u001b[39m \u001b[43mpywrap_tfe\u001b[49m\u001b[38;5;241;43m.\u001b[39;49m\u001b[43mTFE_Py_Execute\u001b[49m\u001b[43m(\u001b[49m\u001b[43mctx\u001b[49m\u001b[38;5;241;43m.\u001b[39;49m\u001b[43m_handle\u001b[49m\u001b[43m,\u001b[49m\u001b[43m \u001b[49m\u001b[43mdevice_name\u001b[49m\u001b[43m,\u001b[49m\u001b[43m \u001b[49m\u001b[43mop_name\u001b[49m\u001b[43m,\u001b[49m\n\u001b[1;32m     53\u001b[0m \u001b[43m                                      \u001b[49m\u001b[43minputs\u001b[49m\u001b[43m,\u001b[49m\u001b[43m \u001b[49m\u001b[43mattrs\u001b[49m\u001b[43m,\u001b[49m\u001b[43m \u001b[49m\u001b[43mnum_outputs\u001b[49m\u001b[43m)\u001b[49m\n\u001b[1;32m     54\u001b[0m \u001b[38;5;28;01mexcept\u001b[39;00m core\u001b[38;5;241m.\u001b[39m_NotOkStatusException \u001b[38;5;28;01mas\u001b[39;00m e:\n\u001b[1;32m     55\u001b[0m   \u001b[38;5;28;01mif\u001b[39;00m name \u001b[38;5;129;01mis\u001b[39;00m \u001b[38;5;129;01mnot\u001b[39;00m \u001b[38;5;28;01mNone\u001b[39;00m:\n",
      "\u001b[0;31mKeyboardInterrupt\u001b[0m: "
     ]
    }
   ],
   "source": [
    "with tf.device(device):\n",
    "    # train\n",
    "    cp_pca_nn.train(filename_saved_model='../data/trained_models/P_cp_PCAplusNN_example',\n",
    "                    # cooling schedule\n",
    "                    validation_split=0.1,\n",
    "                    learning_rates=[1e-2, 1e-3, 1e-4, 1e-5, 1e-6],\n",
    "                    batch_sizes=[1024, 1024, 1024, 1024, 1024],\n",
    "                    gradient_accumulation_steps = [1, 1, 1, 1, 1],\n",
    "                    # early stopping set up\n",
    "                    patience_values = [100,100,100,100,100],\n",
    "                    max_epochs = [1000,1000,1000,1000,1000],\n",
    "                    )"
   ]
  },
  {
   "cell_type": "code",
   "execution_count": null,
   "id": "d70f4a36-4365-4493-8813-1668659c27a2",
   "metadata": {},
   "outputs": [],
   "source": []
  }
 ],
 "metadata": {
  "kernelspec": {
   "display_name": "Python 3 (ipykernel)",
   "language": "python",
   "name": "python3"
  },
  "language_info": {
   "codemirror_mode": {
    "name": "ipython",
    "version": 3
   },
   "file_extension": ".py",
   "mimetype": "text/x-python",
   "name": "python",
   "nbconvert_exporter": "python",
   "pygments_lexer": "ipython3",
   "version": "3.9.17"
  }
 },
 "nbformat": 4,
 "nbformat_minor": 5
}
