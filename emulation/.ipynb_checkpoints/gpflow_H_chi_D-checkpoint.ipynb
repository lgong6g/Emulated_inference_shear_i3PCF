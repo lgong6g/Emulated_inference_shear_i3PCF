{
 "cells": [
  {
   "cell_type": "code",
   "execution_count": 1,
   "id": "cbb4728b",
   "metadata": {},
   "outputs": [
    {
     "name": "stderr",
     "output_type": "stream",
     "text": [
      "2022-12-11 16:38:27.792653: I tensorflow/core/util/util.cc:169] oneDNN custom operations are on. You may see slightly different numerical results due to floating-point round-off errors from different computation orders. To turn them off, set the environment variable `TF_ENABLE_ONEDNN_OPTS=0`.\n"
     ]
    }
   ],
   "source": [
    "import numpy as np\n",
    "import matplotlib.pyplot as plt\n",
    "import gpflow as gpf\n",
    "import tensorflow as tf\n",
    "\n",
    "from tensorflow import keras\n",
    "from scipy import stats\n",
    "from scipy import signal\n",
    "from scipy import interpolate\n",
    "from scipy.cluster.vq import kmeans\n",
    "from gpflow.utilities import print_summary\n",
    "from matplotlib import cm\n",
    "#from gpflow.ci_utils import reduce_in_tests\n",
    "\n",
    "gpf.config.set_default_float(np.float64)\n",
    "gpf.config.set_default_summary_fmt(\"notebook\")\n",
    "np.random.seed(0)\n",
    "# The lines below are specific to the notebook format\n",
    "%matplotlib inline\n",
    "#MAXITER = reduce_in_tests(2000)"
   ]
  },
  {
   "cell_type": "code",
   "execution_count": 12,
   "id": "44114533",
   "metadata": {},
   "outputs": [],
   "source": [
    "params = np.load('cosmology_nodes/training_H_chi_D_LHS_4parameter_file_3e4points_final_prior.npz')\n",
    "skip_index = [1024, 11019, 11020, 21009] # it happens in our case that when using multiprocessing CPU threads to produce the large training and test data set, some nodes are skipped without any explicit reasons\n",
    "# The above list is to collect those skipped nodes and remove them from the training and testing data set\n",
    "\n",
    "Omega_m = params['Omega_m'].reshape(-1,1)\n",
    "As = np.log(10**10 * params['As']).reshape(-1,1)\n",
    "w0 = params['w0'].reshape(-1,1)\n",
    "z = params['z'].reshape(-1,1)\n",
    "\n",
    "theta = np.concatenate((Omega_m, As, w0, z), axis=1)\n",
    "train_params = np.delete(theta, skip_index, 0)"
   ]
  },
  {
   "cell_type": "code",
   "execution_count": 13,
   "id": "03d56aef",
   "metadata": {
    "scrolled": true
   },
   "outputs": [],
   "source": [
    "n_train_nodes = len(theta[:,0])\n",
    "train_data = np.zeros((n_train_nodes, 3))\n",
    "\n",
    "for i in range(n_train_nodes):\n",
    "    if i in skip_index:\n",
    "        train_data[i,:] = np.zeros(3)\n",
    "    else:\n",
    "        train_data[i,:] = np.loadtxt('../theory_output/grids/H_chi_D_values/training_H_chi_D_LHS_4parameter_file_3e4points_final_prior/H_chi_D_param_idx_%s.dat'%(i), usecols=(0), unpack=True)\n",
    "\n",
    "train_H_chi_D = np.delete(train_data, skip_index, 0)        "
   ]
  },
  {
   "cell_type": "code",
   "execution_count": 10,
   "id": "92c4453c",
   "metadata": {},
   "outputs": [],
   "source": [
    "params = np.load('cosmology_nodes/training_H_chi_D_LHS_4parameter_file_1e4points_fisher_prior.npz')\n",
    "skip_index = []\n",
    "\n",
    "Omega_m = params['Omega_m'].reshape(-1,1)\n",
    "As = np.log(10**10 * params['As']).reshape(-1,1)\n",
    "w0 = params['w0'].reshape(-1,1)\n",
    "z = params['z'].reshape(-1,1)\n",
    "\n",
    "theta = np.concatenate((Omega_m, As, w0, z), axis=1)\n",
    "train_params1 = np.delete(theta, skip_index, 0)"
   ]
  },
  {
   "cell_type": "code",
   "execution_count": 11,
   "id": "e6f040b5",
   "metadata": {},
   "outputs": [],
   "source": [
    "n_train_nodes = len(theta[:,0])\n",
    "train_data = np.zeros((n_train_nodes, 3))\n",
    "\n",
    "for i in range(n_train_nodes):\n",
    "    if i in skip_index:\n",
    "        train_data[i,:] = np.zeros(3)\n",
    "    else:\n",
    "        train_data[i,:] = np.loadtxt('../theory_output/grids/H_chi_D_values/training_H_chi_D_LHS_4parameter_file_1e4points_fisher_prior_h_fixed/H_chi_D_param_idx_%s.dat'%(i), usecols=(0), unpack=True)\n",
    "\n",
    "train_H_chi_D1 = np.delete(train_data, skip_index, 0)"
   ]
  },
  {
   "cell_type": "code",
   "execution_count": 13,
   "id": "e0150bec",
   "metadata": {},
   "outputs": [],
   "source": [
    "train_params = np.concatenate((train_params, train_params1),axis=0)\n",
    "train_H_chi_D = np.concatenate((train_H_chi_D, train_H_chi_D1),axis=0)"
   ]
  },
  {
   "cell_type": "markdown",
   "id": "dd26f7dc",
   "metadata": {},
   "source": [
    "### Standardize the training labels"
   ]
  },
  {
   "cell_type": "code",
   "execution_count": 14,
   "id": "5684abc1",
   "metadata": {},
   "outputs": [],
   "source": [
    "H = train_H_chi_D[:,0]\n",
    "H_mean = np.mean(H)\n",
    "H_std = np.std(H)\n",
    "train_H = ((H - H_mean)/H_std).reshape(-1,1)\n",
    "\n",
    "chi = train_H_chi_D[:,1]\n",
    "chi_mean = np.mean(chi)\n",
    "chi_std = np.std(chi)\n",
    "train_chi = ((chi - chi_mean)/chi_std).reshape(-1,1)\n",
    "\n",
    "D = train_H_chi_D[:,2]\n",
    "D_mean = np.mean(D)\n",
    "D_std = np.std(D)\n",
    "train_D = ((D - D_mean)/D_std).reshape(-1,1)"
   ]
  },
  {
   "cell_type": "markdown",
   "id": "ef67e1eb",
   "metadata": {},
   "source": [
    "### Save the standardization parameter for inverse operation"
   ]
  },
  {
   "cell_type": "code",
   "execution_count": 15,
   "id": "93e9ac87",
   "metadata": {},
   "outputs": [],
   "source": [
    "np.savetxt('trained_models/H_chi_D_models/gp_model_3e4_nodes_H_mean_final_prior.dat', np.array([H_mean]))\n",
    "np.savetxt('trained_models/H_chi_D_models/gp_model_3e4_nodes_H_std_final_prior.dat', np.array([H_std]))\n",
    "np.savetxt('trained_models/H_chi_D_models/gp_model_3e4_nodes_chi_mean_final_prior.dat', np.array([chi_mean]))\n",
    "np.savetxt('trained_models/H_chi_D_models/gp_model_3e4_nodes_chi_std_final_prior.dat', np.array([chi_std]))\n",
    "np.savetxt('trained_models/H_chi_D_models/gp_model_3e4_nodes_D_mean_final_prior.dat', np.array([D_mean]))\n",
    "np.savetxt('trained_models/H_chi_D_models/gp_model_3e4_nodes_D_std_final_prior.dat', np.array([D_std]))"
   ]
  },
  {
   "cell_type": "markdown",
   "id": "ed0c937d",
   "metadata": {},
   "source": [
    "### SGPR for H, $\\chi$ and D"
   ]
  },
  {
   "cell_type": "code",
   "execution_count": 16,
   "id": "62f17436",
   "metadata": {},
   "outputs": [],
   "source": [
    "n_inducing = 3000\n",
    "inducing_variable, _ = kmeans(train_params, n_inducing)"
   ]
  },
  {
   "cell_type": "code",
   "execution_count": 17,
   "id": "036382c0",
   "metadata": {},
   "outputs": [],
   "source": [
    "#inducing_variable = np.loadtxt('inducing_variables_H_chi_D.dat')\n",
    "np.savetxt('inducing_3e3_variables_3e4_nodes_H_chi_D_final_prior.dat', inducing_variable)"
   ]
  },
  {
   "cell_type": "code",
   "execution_count": 20,
   "id": "49b659e2",
   "metadata": {},
   "outputs": [
    {
     "name": "stderr",
     "output_type": "stream",
     "text": [
      "WARNING:absl:Function `predict_f` contains input name(s) Xnew with unsupported characters which will be renamed to xnew in the SavedModel.\n"
     ]
    },
    {
     "name": "stdout",
     "output_type": "stream",
     "text": [
      "INFO:tensorflow:Assets written to: trained_models/H_chi_D_models/gp_model_sgpr_D_3e4_nodes_standscale_final_prior/assets\n"
     ]
    },
    {
     "name": "stderr",
     "output_type": "stream",
     "text": [
      "INFO:tensorflow:Assets written to: trained_models/H_chi_D_models/gp_model_sgpr_D_3e4_nodes_standscale_final_prior/assets\n"
     ]
    }
   ],
   "source": [
    "kernel_variance = np.var(train_H, axis=0, ddof=1)[0]\n",
    "mean = np.mean(train_H, axis=0)[0]\n",
    "k = gpf.kernels.SquaredExponential(variance=kernel_variance, lengthscales=[0.1, 0.1, 0.1, 0.1])\n",
    "model = gpf.models.SGPR(data=(train_params, train_H), kernel=k, inducing_variable=inducing_variable, mean_function=gpf.mean_functions.Constant(mean))\n",
    "#model = gpf.models.GPR(data=(train_params, train_H), kernel=k, mean_function=gpf.mean_functions.Constant(mean))\n",
    "model.likelihood.variance.assign(1e-5)\n",
    "opt = gpf.optimizers.Scipy()\n",
    "opt_logs = opt.minimize(model.training_loss, model.trainable_variables, options=dict(maxiter=150))\n",
    "model.predict_f_compiled = tf.function(model.predict_f, input_signature=[tf.TensorSpec(shape=[None, 4], dtype=tf.float64)])\n",
    "tf.saved_model.save(model, 'trained_models/H_chi_D_models/gp_model_sgpr_H_3e4_nodes_standscale_final_prior')"
   ]
  },
  {
   "cell_type": "markdown",
   "id": "1186ae8b",
   "metadata": {},
   "source": [
    "### GPR for H, $\\chi$ and D"
   ]
  },
  {
   "cell_type": "code",
   "execution_count": 9,
   "id": "4cdba08d",
   "metadata": {},
   "outputs": [
    {
     "name": "stderr",
     "output_type": "stream",
     "text": [
      "WARNING:absl:Function `predict_f` contains input name(s) Xnew with unsupported characters which will be renamed to xnew in the SavedModel.\n"
     ]
    },
    {
     "name": "stdout",
     "output_type": "stream",
     "text": [
      "INFO:tensorflow:Assets written to: trained_models/H_chi_D_models/gp_model_H_2e4_nodes_standscale_fisher_prior/assets\n"
     ]
    },
    {
     "name": "stderr",
     "output_type": "stream",
     "text": [
      "INFO:tensorflow:Assets written to: trained_models/H_chi_D_models/gp_model_H_2e4_nodes_standscale_fisher_prior/assets\n"
     ]
    }
   ],
   "source": [
    "kernel_variance = np.var(train_H, axis=0, ddof=1)[0]\n",
    "mean = np.mean(train_H, axis=0)[0]\n",
    "k = gpf.kernels.SquaredExponential(variance=kernel_variance, lengthscales=[0.1, 0.1, 0.1, 0.1])\n",
    "model = gpf.models.GPR(data=(train_params, train_H), kernel=k, mean_function=gpf.mean_functions.Constant(mean))\n",
    "#model = gpf.models.GPR(data=(train_params, train_spectra_scaled), kernel=k, mean_function=None)\n",
    "model.likelihood.variance.assign(1e-5)\n",
    "opt = gpf.optimizers.Scipy()\n",
    "opt_logs = opt.minimize(model.training_loss, model.trainable_variables, options=dict(maxiter=150))\n",
    "model.predict_f_compiled = tf.function(model.predict_f, input_signature=[tf.TensorSpec(shape=[None, 4], dtype=tf.float64)])\n",
    "tf.saved_model.save(model, 'trained_models/H_chi_D_models/gp_model_H_2e4_nodes_standscale_fisher_prior')"
   ]
  },
  {
   "cell_type": "markdown",
   "id": "264fea4c",
   "metadata": {},
   "source": [
    "### Load the test parameters and corresponding labels"
   ]
  },
  {
   "cell_type": "code",
   "execution_count": 2,
   "id": "2493151e",
   "metadata": {},
   "outputs": [],
   "source": [
    "test_params = np.load('cosmology_nodes/testing_H_chi_D_LHS_4parameter_file_1e3points_final_prior.npz')\n",
    "\n",
    "Omega_m = test_params['Omega_m'].reshape(-1,1)\n",
    "As = np.log(10**10 * test_params['As']).reshape(-1,1)\n",
    "w0 = test_params['w0'].reshape(-1,1)\n",
    "z = test_params['z'].reshape(-1,1)\n",
    "\n",
    "test_params = np.concatenate((Omega_m, As, w0, z), axis=1)\n",
    "n_test_nodes = len(test_params[:,0])"
   ]
  },
  {
   "cell_type": "code",
   "execution_count": 3,
   "id": "eb050b9e",
   "metadata": {},
   "outputs": [],
   "source": [
    "test_data = np.zeros((n_test_nodes, 3))\n",
    "skip_index = []\n",
    "for i in range(n_test_nodes):\n",
    "    if i in skip_index:\n",
    "        test_data[i,:] = np.zeros(3)\n",
    "    else:\n",
    "        test_data[i] = np.loadtxt('../theory_output/grids/H_chi_D_values/testing_H_chi_D_LHS_4parameter_file_1e3points_final_prior/H_chi_D_param_idx_%s.dat'%(i))\n",
    "\n",
    "test_params = np.delete(test_params, skip_index, 0)\n",
    "test_data = np.delete(test_data, skip_index, 0)\n",
    "\n",
    "test_H = test_data[:,0]\n",
    "test_chi = test_data[:,1]\n",
    "test_D = test_data[:,2]"
   ]
  },
  {
   "cell_type": "code",
   "execution_count": 4,
   "id": "dd07bd43",
   "metadata": {},
   "outputs": [
    {
     "name": "stderr",
     "output_type": "stream",
     "text": [
      "2022-12-11 16:39:12.860693: I tensorflow/stream_executor/cuda/cuda_gpu_executor.cc:975] successful NUMA node read from SysFS had negative value (-1), but there must be at least one NUMA node, so returning NUMA node zero\n",
      "2022-12-11 16:39:12.874462: I tensorflow/stream_executor/cuda/cuda_gpu_executor.cc:975] successful NUMA node read from SysFS had negative value (-1), but there must be at least one NUMA node, so returning NUMA node zero\n",
      "2022-12-11 16:39:12.876181: I tensorflow/stream_executor/cuda/cuda_gpu_executor.cc:975] successful NUMA node read from SysFS had negative value (-1), but there must be at least one NUMA node, so returning NUMA node zero\n",
      "2022-12-11 16:39:12.878725: I tensorflow/core/platform/cpu_feature_guard.cc:193] This TensorFlow binary is optimized with oneAPI Deep Neural Network Library (oneDNN) to use the following CPU instructions in performance-critical operations:  AVX2 AVX512F AVX512_VNNI FMA\n",
      "To enable them in other operations, rebuild TensorFlow with the appropriate compiler flags.\n",
      "2022-12-11 16:39:12.879836: I tensorflow/stream_executor/cuda/cuda_gpu_executor.cc:975] successful NUMA node read from SysFS had negative value (-1), but there must be at least one NUMA node, so returning NUMA node zero\n",
      "2022-12-11 16:39:12.881526: I tensorflow/stream_executor/cuda/cuda_gpu_executor.cc:975] successful NUMA node read from SysFS had negative value (-1), but there must be at least one NUMA node, so returning NUMA node zero\n",
      "2022-12-11 16:39:12.883055: I tensorflow/stream_executor/cuda/cuda_gpu_executor.cc:975] successful NUMA node read from SysFS had negative value (-1), but there must be at least one NUMA node, so returning NUMA node zero\n",
      "2022-12-11 16:39:13.790621: I tensorflow/stream_executor/cuda/cuda_gpu_executor.cc:975] successful NUMA node read from SysFS had negative value (-1), but there must be at least one NUMA node, so returning NUMA node zero\n",
      "2022-12-11 16:39:13.792372: I tensorflow/stream_executor/cuda/cuda_gpu_executor.cc:975] successful NUMA node read from SysFS had negative value (-1), but there must be at least one NUMA node, so returning NUMA node zero\n",
      "2022-12-11 16:39:13.793937: I tensorflow/stream_executor/cuda/cuda_gpu_executor.cc:975] successful NUMA node read from SysFS had negative value (-1), but there must be at least one NUMA node, so returning NUMA node zero\n",
      "2022-12-11 16:39:13.795458: I tensorflow/core/common_runtime/gpu/gpu_device.cc:1532] Created device /job:localhost/replica:0/task:0/device:GPU:0 with 38453 MB memory:  -> device: 0, name: NVIDIA A100-PCIE-40GB MIG 7g.40gb, pci bus id: 0000:00:05.0, compute capability: 8.0\n"
     ]
    }
   ],
   "source": [
    "emulator_H = tf.saved_model.load('trained_models/H_chi_D_models/gp_model_sgpr_H_3e4_nodes_standscale_final_prior/')\n",
    "emulator_chi = tf.saved_model.load('trained_models/H_chi_D_models/gp_model_sgpr_chi_3e4_nodes_standscale_final_prior/')\n",
    "emulator_D = tf.saved_model.load('trained_models/H_chi_D_models/gp_model_sgpr_D_3e4_nodes_standscale_final_prior/')"
   ]
  },
  {
   "cell_type": "code",
   "execution_count": 5,
   "id": "e9fb8d50",
   "metadata": {},
   "outputs": [],
   "source": [
    "H_mean = np.loadtxt('trained_models/H_chi_D_models/gp_model_3e4_nodes_H_mean_final_prior.dat')\n",
    "H_std = np.loadtxt('trained_models/H_chi_D_models/gp_model_3e4_nodes_H_std_final_prior.dat')\n",
    "chi_mean = np.loadtxt('trained_models/H_chi_D_models/gp_model_3e4_nodes_chi_mean_final_prior.dat')\n",
    "chi_std = np.loadtxt('trained_models/H_chi_D_models/gp_model_3e4_nodes_chi_std_final_prior.dat')\n",
    "D_mean = np.loadtxt('trained_models/H_chi_D_models/gp_model_3e4_nodes_D_mean_final_prior.dat')\n",
    "D_std = np.loadtxt('trained_models/H_chi_D_models/gp_model_3e4_nodes_D_std_final_prior.dat')"
   ]
  },
  {
   "cell_type": "code",
   "execution_count": 6,
   "id": "3cd516b6",
   "metadata": {},
   "outputs": [
    {
     "name": "stderr",
     "output_type": "stream",
     "text": [
      "2022-12-11 16:39:29.718293: I tensorflow/core/util/cuda_solvers.cc:179] Creating GpuSolver handles for stream 0x55cd26c25f40\n"
     ]
    }
   ],
   "source": [
    "pred_H = emulator_H.predict_f_compiled(test_params)[0].numpy()\n",
    "pred_H = (pred_H*H_std + H_mean).reshape(-1)\n",
    "\n",
    "pred_chi = emulator_chi.predict_f_compiled(test_params)[0].numpy()\n",
    "pred_chi = (pred_chi*chi_std + chi_mean).reshape(-1)\n",
    "\n",
    "pred_D = emulator_D.predict_f_compiled(test_params)[0].numpy()\n",
    "pred_D = (pred_D*D_std + D_mean).reshape(-1)"
   ]
  },
  {
   "cell_type": "code",
   "execution_count": 7,
   "id": "bc7e16ff",
   "metadata": {},
   "outputs": [],
   "source": [
    "error_H = pred_H/test_H - 1\n",
    "error_chi = pred_chi/test_chi - 1\n",
    "error_D = pred_D/test_D - 1"
   ]
  },
  {
   "cell_type": "code",
   "execution_count": 70,
   "id": "c90f8a28",
   "metadata": {},
   "outputs": [
    {
     "data": {
      "image/png": "[encoded data removed]",
      "text/plain": [
       "<Figure size 864x864 with 4 Axes>"
      ]
     },
     "metadata": {
      "needs_background": "light"
     },
     "output_type": "display_data"
    }
   ],
   "source": [
    "import matplotlib.gridspec as gridspec\n",
    "fig = plt.figure(figsize=(12,12))\n",
    "gs = gridspec.GridSpec(2, 4)\n",
    "gs.update(wspace=0.5)\n",
    "ax1 = plt.subplot(gs[0, :2])\n",
    "ax2 = plt.subplot(gs[0, 2:])\n",
    "ax3 = plt.subplot(gs[1, 1:3])\n",
    "ax1.get_shared_y_axes().join(ax1, ax2, ax3)\n",
    "\n",
    "\n",
    "ax1.hist(error_H, bins=20)[2]\n",
    "ax2.hist(error_chi, bins=20)[2]\n",
    "ax3.hist(error_D, bins=20)[2]\n",
    "\n",
    "ax1.axvline(-0.0005, linestyle =\"--\", color =\"k\")\n",
    "ax1.axvline(0.0005, linestyle =\"dashed\", color =\"k\")\n",
    "ax2.axvline(-0.0005, linestyle =\"--\", color =\"k\")\n",
    "ax2.axvline(0.0005, linestyle =\"dashed\", color =\"k\")\n",
    "ax3.axvline(-0.0005, linestyle =\"--\", color =\"k\", label='fractional error 0.05%')\n",
    "ax3.axvline(0.0005, linestyle =\"dashed\", color =\"k\")\n",
    "ax3.legend(loc='center left', bbox_to_anchor=(1, 0.5), fontsize=16)\n",
    "\n",
    "ax1.ticklabel_format(axis='x', style='sci',scilimits=(0,0),useMathText=True)\n",
    "ax2.ticklabel_format(axis='x', style='sci',scilimits=(0,0),useMathText=True)\n",
    "ax3.ticklabel_format(axis='x', style='sci',scilimits=(0,0),useMathText=True)\n",
    "ax1.tick_params(length=6.0, width=2.0, labelsize=16)\n",
    "ax2.tick_params(length=6.0, width=2.0, labelsize=16)\n",
    "ax3.tick_params(length=6.0, width=2.0, labelsize=16)\n",
    "\n",
    "ax1.set_xlabel(r'$H_{pred}/H_{test} - 1$', fontsize=18, labelpad=10)\n",
    "ax2.set_xlabel(r'$\\chi_{pred}/\\chi_{test} - 1$', fontsize=18, labelpad=10)\n",
    "ax3.set_xlabel(r'$D_{pred}/D_{test} - 1$', fontsize=18, labelpad=10)\n",
    "\n",
    "\n",
    "fig.add_subplot(111, frame_on=False)\n",
    "plt.tick_params(labelcolor=\"none\", bottom=False, left=False)\n",
    "plt.ylabel('Number of test nodes', fontsize=18, labelpad=25)\n",
    "plt.savefig('../MCMC/paper_plots/test_H_chi_D.png', format='png', dpi=300, bbox_inches='tight')\n",
    "plt.show()"
   ]
  },
  {
   "cell_type": "code",
   "execution_count": 13,
   "id": "b9ca33ca",
   "metadata": {},
   "outputs": [
    {
     "data": {
      "text/plain": [
       "<matplotlib.legend.Legend at 0x7fdcf88910a0>"
      ]
     },
     "execution_count": 13,
     "metadata": {},
     "output_type": "execute_result"
    },
    {
     "data": {
      "image/png": "[encoded data removed]",
      "text/plain": [
       "<Figure size 432x288 with 1 Axes>"
      ]
     },
     "metadata": {
      "needs_background": "light"
     },
     "output_type": "display_data"
    }
   ],
   "source": [
    "plt.hist(error_H, bins=20)[2]\n",
    "plt.axvline(-0.0001, linestyle =\"--\", color =\"k\", label='test error 0.01%')\n",
    "plt.axvline(0.0001, linestyle =\"dashed\", color =\"k\")\n",
    "plt.axvline(-0.0005, linestyle =\"dashed\", color =\"r\", label='test error 0.05%')\n",
    "plt.axvline(0.0005, linestyle =\"dashed\", color =\"r\")\n",
    "plt.xlabel(r'$H_{pred}/H_{test} - 1$', fontsize=16)\n",
    "plt.ylabel('Test node number', fontsize=16)\n",
    "plt.title('Test accuracy of H within the fisher prior', fontsize=16)\n",
    "plt.legend(fontsize=12)"
   ]
  },
  {
   "cell_type": "code",
   "execution_count": 28,
   "id": "34eac271",
   "metadata": {},
   "outputs": [
    {
     "name": "stdout",
     "output_type": "stream",
     "text": [
      "H fractional difference less than 0.01%: 938\n",
      "H fractional difference less than 0.05%: 997\n",
      "H fractional difference less than 0.1%: 1000\n",
      "H fractional difference less than 1%: 1000\n"
     ]
    }
   ],
   "source": [
    "print('H fractional difference less than 0.01%:', len(np.where(abs(error_H) < 0.0001)[0]))\n",
    "print('H fractional difference less than 0.05%:', len(np.where(abs(error_H) < 0.0005)[0]))\n",
    "print('H fractional difference less than 0.1%:', len(np.where(abs(error_H) < 0.001)[0]))\n",
    "print('H fractional difference less than 1%:', len(np.where(abs(error_H) < 0.01)[0]))"
   ]
  },
  {
   "cell_type": "code",
   "execution_count": 29,
   "id": "b95e180e",
   "metadata": {},
   "outputs": [
    {
     "data": {
      "text/plain": [
       "<matplotlib.legend.Legend at 0x7f976c391df0>"
      ]
     },
     "execution_count": 29,
     "metadata": {},
     "output_type": "execute_result"
    },
    {
     "data": {
      "image/png": "[encoded data removed]",
      "text/plain": [
       "<Figure size 432x288 with 1 Axes>"
      ]
     },
     "metadata": {
      "needs_background": "light"
     },
     "output_type": "display_data"
    }
   ],
   "source": [
    "plt.hist(error_chi, bins=20)[2]\n",
    "plt.vlines(-0.001, 0, 500, linestyles =\"dashed\", colors =\"k\", label='test error 0.1%')\n",
    "plt.vlines(0.001, 0, 500, linestyles =\"dashed\", colors =\"k\")\n",
    "plt.vlines(-0.01, 0, 500, linestyles =\"dashed\", colors =\"r\", label='test error 1%')\n",
    "plt.vlines(0.01, 0, 500, linestyles =\"dashed\", colors =\"r\")\n",
    "plt.xlabel(r'$\\chi_{pred}/\\chi_{test} - 1$', fontsize=16)\n",
    "plt.ylabel('Test node number', fontsize=16)\n",
    "plt.title('Test accuracy of chi within the fisher prior', fontsize=16)\n",
    "plt.legend(fontsize=12)"
   ]
  },
  {
   "cell_type": "code",
   "execution_count": 30,
   "id": "527a671b",
   "metadata": {},
   "outputs": [
    {
     "name": "stdout",
     "output_type": "stream",
     "text": [
      "chi fractional difference less than 0.01%: 854\n",
      "chi fractional difference less than 0.05%: 972\n",
      "chi fractional difference less than 0.1%: 982\n",
      "chi fractional difference less than 1%: 1000\n"
     ]
    }
   ],
   "source": [
    "print('chi fractional difference less than 0.01%:', len(np.where(abs(error_chi) < 0.0001)[0]))\n",
    "print('chi fractional difference less than 0.05%:', len(np.where(abs(error_chi) < 0.0005)[0]))\n",
    "print('chi fractional difference less than 0.1%:', len(np.where(abs(error_chi) < 0.001)[0]))\n",
    "print('chi fractional difference less than 1%:', len(np.where(abs(error_chi) < 0.01)[0]))"
   ]
  },
  {
   "cell_type": "code",
   "execution_count": 31,
   "id": "a140421e",
   "metadata": {},
   "outputs": [
    {
     "data": {
      "text/plain": [
       "<matplotlib.legend.Legend at 0x7f97e0ff46d0>"
      ]
     },
     "execution_count": 31,
     "metadata": {},
     "output_type": "execute_result"
    },
    {
     "data": {
      "image/png": "[encoded data removed]",
      "text/plain": [
       "<Figure size 432x288 with 1 Axes>"
      ]
     },
     "metadata": {
      "needs_background": "light"
     },
     "output_type": "display_data"
    }
   ],
   "source": [
    "plt.hist(error_D, bins=20)[2]\n",
    "plt.vlines(-0.0001, 0, 200, linestyles =\"dashed\", colors =\"k\", label='test error 0.01%')\n",
    "plt.vlines(0.0001, 0, 200, linestyles =\"dashed\", colors =\"k\")\n",
    "plt.vlines(-0.0005, 0, 200, linestyles =\"dashed\", colors =\"r\", label='test error 0.05%')\n",
    "plt.vlines(0.0005, 0, 200, linestyles =\"dashed\", colors =\"r\")\n",
    "plt.xlabel(r'$D_{pred}/D_{test} - 1$', fontsize=16)\n",
    "plt.ylabel('Test node number', fontsize=16)\n",
    "plt.title('Test accuracy of D within the fisher prior', fontsize=16)\n",
    "plt.legend(fontsize=12)"
   ]
  },
  {
   "cell_type": "code",
   "execution_count": 32,
   "id": "2f17610c",
   "metadata": {},
   "outputs": [
    {
     "name": "stdout",
     "output_type": "stream",
     "text": [
      "D fractional difference less than 0.01%: 975\n",
      "D fractional difference less than 0.05%: 1000\n",
      "D fractional difference less than 0.1%: 1000\n",
      "D fractional difference less than 1%: 1000\n"
     ]
    }
   ],
   "source": [
    "print('D fractional difference less than 0.01%:', len(np.where(abs(error_D) < 0.0001)[0]))\n",
    "print('D fractional difference less than 0.05%:', len(np.where(abs(error_D) < 0.0005)[0]))\n",
    "print('D fractional difference less than 0.1%:', len(np.where(abs(error_D) < 0.001)[0]))\n",
    "print('D fractional difference less than 1%:', len(np.where(abs(error_D) < 0.01)[0]))"
   ]
  },
  {
   "cell_type": "code",
   "execution_count": null,
   "id": "ac8bf0e4",
   "metadata": {},
   "outputs": [],
   "source": []
  }
 ],
 "metadata": {
  "kernelspec": {
   "display_name": "Python 3 (ipykernel)",
   "language": "python",
   "name": "python3"
  },
  "language_info": {
   "codemirror_mode": {
    "name": "ipython",
    "version": 3
   },
   "file_extension": ".py",
   "mimetype": "text/x-python",
   "name": "python",
   "nbconvert_exporter": "python",
   "pygments_lexer": "ipython3",
   "version": "3.9.12"
  }
 },
 "nbformat": 4,
 "nbformat_minor": 5
}
