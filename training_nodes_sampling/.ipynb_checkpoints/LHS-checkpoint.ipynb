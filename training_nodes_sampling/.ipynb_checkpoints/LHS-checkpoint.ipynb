{
 "cells": [
  {
   "cell_type": "code",
   "execution_count": 1,
   "id": "be7bebdc",
   "metadata": {},
   "outputs": [],
   "source": [
    "import numpy as np\n",
    "import pyDOE as pyDOE\n",
    "import matplotlib.pyplot as plt"
   ]
  },
  {
   "cell_type": "code",
   "execution_count": 2,
   "id": "2459727d",
   "metadata": {},
   "outputs": [],
   "source": [
    "n_params = 5 # The number of parameters one wishes to sample\n",
    "n_samples = 10000 # The number of parameter vectors one wishes to sample\n",
    "\n",
    "# Below is a group of different sampling priors that were once used in our sampling \n",
    "'''\n",
    "# The original prior range\n",
    "Omega_m = np.linspace(0.19, 0.46, n_samples)\n",
    "As = np.linspace(1.1e-9, 3.1e-9, n_samples)\n",
    "w0 = np.linspace(-1.85, -0.33, n_samples)\n",
    "h = np.linspace(0.63, 0.81, n_samples)\n",
    "c_min = np.linspace(2.20, 4.10, n_samples)\n",
    "z = np.linspace(0.008, 2.1, n_samples)\n",
    "\n",
    "# DESY3 prior from Secco++ for DESY3 cosmic shear 2PCF analysis (Omega_m, As, w0, h) but slightly larger\n",
    "# c_min prior from DESY3 cosmic shear harmonic space analysis by Doux++\n",
    "Omega_m = np.linspace(0.095, 0.905, n_samples)\n",
    "As = np.linspace(0.495e-9, 5.05e-9, n_samples)\n",
    "w0 = np.linspace(-2.05, -0.33, n_samples)\n",
    "h = np.linspace(0.545, 0.915, n_samples)\n",
    "c_min = np.linspace(0.01, 10.0, n_samples)\n",
    "z = np.linspace(0.008, 2.1, n_samples)\n",
    "\n",
    "# Modified prior that can include the whole Fisher contours of cosmological parameters forecasted by shear 2PCF only \n",
    "Omega_m = np.linspace(0.08, 0.48, n_samples)\n",
    "As = np.linspace(0.5e-9, 6.7e-9, n_samples)\n",
    "w0 = np.linspace(-3.0, -0.33, n_samples)\n",
    "h = np.linspace(0.55, 0.91, n_samples)\n",
    "c_min = np.linspace(1.0, 5.5, n_samples)\n",
    "z = np.linspace(0.008, 2.1, n_samples)\n",
    "\n",
    "# Model validation prior\n",
    "Omega_m = np.linspace(0.21, 0.40, n_samples)\n",
    "As = np.linspace(1.7e-9, 5.5e-9, n_samples)\n",
    "w0 = np.linspace(-2.5, -0.7, n_samples)\n",
    "c_min = np.linspace(2.0, 4.5, n_samples)\n",
    "z = np.linspace(0.008, 2.1, n_samples)\n",
    "'''\n",
    "\n",
    "# Adopted prior that can include the whole Fisher contours of cosmological parameters (h fixed) forecasted by shear 2PCF only \n",
    "Omega_m = np.linspace(0.16, 0.45, n_samples)\n",
    "As = np.linspace(0.5e-9, 6.7e-9, n_samples)\n",
    "w0 = np.linspace(-3.33, -0.33, n_samples)\n",
    "c_min = np.linspace(1.0, 5.5, n_samples)\n",
    "z = np.linspace(0.008, 2.1, n_samples)"
   ]
  },
  {
   "cell_type": "code",
   "execution_count": 3,
   "id": "8f3cccc8",
   "metadata": {},
   "outputs": [],
   "source": [
    "AllParams = np.vstack([Omega_m, As, w0, c_min, z])\n",
    "#lhd = pyDOE.lhs(n_params, samples=n_samples, criterion=\"maximin\")\n",
    "lhd = pyDOE.lhs(n_params, samples=n_samples)\n",
    "idx = (lhd * n_samples).astype(int)\n",
    "\n",
    "AllCombinations = np.zeros((n_samples, n_params))\n",
    "for i in range(n_params):\n",
    "    AllCombinations[:, i] = AllParams[i][idx[:, i]]"
   ]
  },
  {
   "cell_type": "code",
   "execution_count": 17,
   "id": "7fcefd93",
   "metadata": {},
   "outputs": [],
   "source": [
    "params = {'Omega_m': AllCombinations[:, 0],\n",
    "          'As': AllCombinations[:, 1],\n",
    "          'w0': AllCombinations[:, 2],\n",
    "          'c_min': AllCombinations[:, 3],\n",
    "          'z': AllCombinations[:, 4]\n",
    "           }\n",
    "\n",
    "np.savez('_.npz', **params) # save the sampled parameter file"
   ]
  }
 ],
 "metadata": {
  "kernelspec": {
   "display_name": "Python 3 (ipykernel)",
   "language": "python",
   "name": "python3"
  },
  "language_info": {
   "codemirror_mode": {
    "name": "ipython",
    "version": 3
   },
   "file_extension": ".py",
   "mimetype": "text/x-python",
   "name": "python",
   "nbconvert_exporter": "python",
   "pygments_lexer": "ipython3",
   "version": "3.9.12"
  }
 },
 "nbformat": 4,
 "nbformat_minor": 5
}
